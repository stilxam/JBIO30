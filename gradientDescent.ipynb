{
 "cells": [
  {
   "cell_type": "code",
   "execution_count": 1,
   "metadata": {
    "collapsed": true
   },
   "outputs": [],
   "source": [
    "from sympy import *\n",
    "import numpy as np\n",
    "\n",
    "def partial(function, wrt):\n",
    "    return function.diff(wrt)\n",
    "def gradient_descent(function, step, initpoints, max_iter):\n",
    "    xs = np.empty((max_iter, len(initpoints)))\n",
    "\n"
   ]
  },
  {
   "cell_type": "code",
   "execution_count": 2,
   "outputs": [
    {
     "data": {
      "text/plain": "array([[1.89044733e-316, 0.00000000e+000, 6.92930074e-310,\n        6.92930154e-310],\n       [6.92930158e-310, 6.92930158e-310, 6.92930158e-310,\n        6.92930155e-310],\n       [6.92930158e-310, 6.92930157e-310, 6.92923390e-310,\n        6.92923789e-310]])"
     },
     "execution_count": 2,
     "metadata": {},
     "output_type": "execute_result"
    }
   ],
   "source": [
    "np.empty((3,4))"
   ],
   "metadata": {
    "collapsed": false
   }
  }
 ],
 "metadata": {
  "kernelspec": {
   "display_name": "Python 3",
   "language": "python",
   "name": "python3"
  },
  "language_info": {
   "codemirror_mode": {
    "name": "ipython",
    "version": 2
   },
   "file_extension": ".py",
   "mimetype": "text/x-python",
   "name": "python",
   "nbconvert_exporter": "python",
   "pygments_lexer": "ipython2",
   "version": "2.7.6"
  }
 },
 "nbformat": 4,
 "nbformat_minor": 0
}
