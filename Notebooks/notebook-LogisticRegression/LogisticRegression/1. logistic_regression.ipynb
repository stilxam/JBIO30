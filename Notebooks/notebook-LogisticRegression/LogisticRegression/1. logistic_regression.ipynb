{
 "cells": [
  {
   "cell_type": "code",
   "execution_count": 1,
   "metadata": {},
   "outputs": [],
   "source": [
    "import pandas as pd \n",
    "import numpy as np\n",
    "%matplotlib inline \n",
    "import matplotlib.pyplot as plt\n",
    "\n",
    "def sigmoid(z): \n",
    "    return 1 / (1 + np.exp(-z))\n",
    "\n",
    "def softmax(zs):\n",
    "    return np.exp(zs) / sum(np.exp(zs))"
   ]
  },
  {
   "cell_type": "markdown",
   "metadata": {},
   "source": [
    "=================================================================================================================\n",
    "# Lecture Notes: Logistic Regression\n",
    "\n",
    "\n",
    "##### D.Vidotto, M. Shafiee Kamalabad, S. Hess, Data Mining: JBI030 2020/2021\n",
    "\n",
    "\n",
    "================================================================================================================="
   ]
  },
  {
   "cell_type": "markdown",
   "metadata": {},
   "source": [
    "With this notebook we will explore the *logistic regression* (LR) algorithm. In particular, we will go through the theoretical concepts explored during the dedicated lecture by means of Python code and examples. \n",
    "\n",
    "In this notebook, we are going to delve into the following topics: \n",
    "\n",
    "1. Logistic Regression: main ingredients\n",
    "1. Estimation (Review)\n",
    "1. Logistic Regression in scikit-learn\n",
    "  * Model estimates \n",
    "  * Model predictions and decision boundaries\n",
    "  * Model interpretation \n",
    "1. Model regularization\n",
    "  * ridge\n",
    "  * lasso \n",
    "1. Multi-class case \n",
    "1. Other Remarks\n",
    "1. Example on the Heart dataset "
   ]
  },
  {
   "cell_type": "markdown",
   "metadata": {},
   "source": [
    "## 1. Logistic Regression: Main Ingredients\n",
    "In what follows, we will assume we have two classes, Class 0 and Class 1, and we take Class 1 to be the *positive class*; we encode the target (=output) variable $Y$ as follows: \n",
    "\n",
    "$$ Y_i = \n",
    "\\left\\{\n",
    "\\begin{array}{rl}\n",
    "0 & \\ for\\ Class\\ 0 \\\\\n",
    "1 & \\ for\\ Class\\ 1\n",
    "\\end{array}\n",
    "\\right.\n",
    "$$\n",
    "\n",
    "for each $i=1,...,n$, where $n$ is the sample size in this case. Thus, a classifier seeks to first estimate the probability \n",
    "\n",
    "$$ p_i = \\Pr(Y_i = 1|\\mathbf{x}_i), $$ \n",
    "\n",
    "and subsequently assigning each instance to Class 0 or Class 1 given such probabilities. In the formula above, $\\mathbf{x}_i$ is the $p$-dimensional vector of features observed for the $i$-th instance; that is, $\\mathbf{x}_i$ is the $i$-th row of the feature matrix $\\mathbf{X} = (X_1,X_2,...,X_p)$. \n",
    "\n",
    "To perform class assignments, $i$ can be assigned to Class 1 if, for example, $\\Pr(Y_i = 1|\\mathbf{X}_i) >= 0.5$ (where 0.5 is a *threshold*); or to Class 0 otherwise. (**0.5** is a **reasonable**, but not **always optimal** threshold, and it can be modified if necessary).   \n",
    "\n",
    "Now consider the following dataset (two classes, two features): \n",
    "\n",
    "<img src=\"./img/logistic_regression/lin_sep_data_a.png\" width=\"400\" height=\"50\"/>\n",
    "\n",
    "Roughly, it seems like most of the data points in the \"top-left\" corner until the middle diagonal (from bottom-left to top-right) of the graph belong to Class 0; and most of data points in the \"bottom-right\" slice of the 2D-space belong to Class 1. \n",
    "\n",
    "In this case, we can then try to learn a **linear function** that separates the two classes (allowing for some noise):  \n",
    "\n",
    "<img src=\"./img/logistic_regression/lin_sep_data_b.png\" width=\"400\" height=\"50\"/>"
   ]
  },
  {
   "cell_type": "markdown",
   "metadata": {},
   "source": [
    "To find such **linear boundaries**, statistics provides us with the **logistic regression** (LR) model, which is an instance of [Generalized Linear Models](https://en.wikipedia.org/wiki/Generalized_linear_model). \n",
    "\n",
    "The main ingredients used by LR models are the following ones: \n",
    "\n",
    "1. a *decision function*, which is a *hyperplane* in this case (linear decision function); this function has the form of a *linear combination* of the features, that is \n",
    "\n",
    "<br>\n",
    "$$ f(\\mathbf{x}) = w_0 + w_1x_{1} + w_2x_{2} + \\cdots + w_px_{p} = w_0 + \\mathbf{w}^T\\mathbf{x} $$ <br> where: \n",
    "<br> \n",
    "\n",
    " * $w_0$ is the *intercept* (a.k.a. **bias** of the model; not to be confused with the bias of the predictions). It tells us what's the **expected value** of the decision function is, when all the **features are equal to 0**  \n",
    " * $w_1,...,w_p$ are the **slopes** (a.k.a coefficients or weights) of the model; each slope tells us what is the **expected change** in the **decision function** when increasing the corresponding feature by **one unit**, *while keeping all other features constant* \n",
    " * $\\mathbf{w} = [w_1,...,w_p]$ is the vector containing all the model parameters \n",
    " * $\\mathbf{x} = [x_{1},...,x_{p}]$ are the points in the feature space. <br> \n",
    " \n",
    "Once the value of the **weights** and **bias** is known, we can calculate the value $f(\\mathbf{x}_i)$ for each training/test unit. Statisticians refer to the decision function of Logistic Regression as *linear predictor*. \n",
    " \n",
    "2. the [*sigmoid function*](https://en.wikipedia.org/wiki/Sigmoid_function) (also called logistic function) is denoted with $\\sigma$, and (typically) used to map the values of the decision function $f(\\mathbf{x}_i) \\in \\mathbb{R}$, to values in [0,1]. The resulting value, $\\sigma(f(\\mathbf{x}))$, can be interpreted as the **probability to belong to the positive class**. For a value $z \\in \\mathbb{R}$, the sigmoid function  is defined as follows (you can see its shape in the next figure below):\n",
    "\n",
    "$$\\sigma(\\cdot): \\mathbb{R} \\rightarrow [0,1]$$\n",
    "$$\\sigma(z) = \\frac{1}{1+e^{-z}}$$ \n",
    "$$\\sigma(w_0+\\mathbf{w}^T\\mathbf{x}_i))=\\frac{1}{1+e^{-(w_0+\\mathbf{w}^T\\mathbf{x}_i)}}$$\n",
    "\n",
    "\n",
    "3. last, LR uses a **back-ward transformation** of the sigmoid function to calculate the linear scores starting from the prediction probabilities. This transformation is the **logit function**, defined as: <br> $$logit\\left(\\sigma(w_0+\\mathbf{w}^T\\mathbf{x}_i)\\right) = log\\left(\\frac{\\sigma(w_0+\\mathbf{w}^T\\mathbf{x}_i)}{1-\\sigma(w_0+\\mathbf{w}^T\\mathbf{x}_i)}\\right) = w_0+\\mathbf{w}^T\\mathbf{x}_i$$ <br> Under this perspective, we can give another **interpretation** to the decision function: it is the **[log-odds ratio](https://www.statisticshowto.datasciencecentral.com/log-odds/)** of the probability to belong to the **positive** class over the negative one.\n",
    "\n",
    "**Note:**$$logit\\left(p\\right) = log\\left(\\frac{p}{1-p}\\right) $$\n",
    "\n",
    "Therefore, for unit $i$, once we know the values of $w_0$ and $\\mathbf{w}$ we can estimate the probability to belong to the positive class as $p_i = \\Pr(Y_i = 1|\\mathbf{X}_i) = \\sigma(w_0+\\mathbf{w}^T\\mathbf{x}_i)$, and the probability to belong to the negative class as $1-p_i = \\Pr(Y_i = 0|\\mathbf{X}_i) = 1-\\sigma(w_0+\\mathbf{w}^T\\mathbf{x}_i)$. Graphically, the sigmoid function looks like as follows: \n",
    "\n",
    "<img src=\"./img/logistic_regression/sigmoid.png\" width=\"600\" height=\"50\"/>"
   ]
  },
  {
   "cell_type": "markdown",
   "metadata": {},
   "source": [
    "This shows that when **$f(\\mathbf{x}_i)$** is **very large or very small**, the LR model is more certain of classifying unit $i$ it **to the positive/negative class** (the extremes of the sigmoid function are close to 0 or 1). As the linear prediction gets **close to 0**, however, **LR** becomes more uncertain about the class assignment, and at $f(\\mathbf{x}_i)=0$ we have $\\sigma(0)=0.5$; thus, the LR model will perform the following prediction for unit $i$: \n",
    "\n",
    "$$ \\hat{Y}_i = \n",
    "\\left\\{\n",
    "\\begin{array}{rl}\n",
    "0 & \\ if\\ \\sigma(f(\\mathbf{x}_i)) < 0.5 \\ or,\\ equivalently,\\ if\\ f(\\mathbf{x}_i) < 0 \\\\\n",
    "1 & \\ if\\ \\sigma(f(\\mathbf{x}_i)) \\geq 0.5 \\ or,\\ equivalently,\\ if\\ f(\\mathbf{x}_i) \\geq 0 \\\\\n",
    "\\end{array}\n",
    "\\right.\n",
    "$$\n",
    "\n",
    "(as noted above and in previous lectures, the threshold of 0.5-and consequently the value of 0 for the decision function- can be modified according to the problem we want to solve).\n",
    "\n",
    "Therefore the **linear decision boundary** (linear separator) is defined by all those points in $\\mathbf{x}$ such that $f(\\mathbf{x}) = 0$. A graphical example of the linear decision boundary is given in the scatterplot above. Points for which $f(\\mathbf{x}_i) = w_0+\\mathbf{w}^T\\mathbf{x}_i \\geq 0$ will be classified to the positive class; and all the other points to the negative class. \n",
    "\n",
    "In the plot below, you can see another example of decision boundary for a problem with 1 feature.    \n",
    "\n",
    "<img src=\"./img/logistic_regression/1d_log_reg.png\" width=\"600\" height=\"50\"/>\n",
    "\n",
    "**Model form**.  We are now ready to see its mathematical formulation, to model the classes of $Y$. The logistic regression model for **a single observation $i$** takes the form of a [Binomial distribution](https://en.wikipedia.org/wiki/Binomial_distribution), with $n=1$ trial (equivalent to a Bernoulli distribution). Therefore, for $y_i \\in \\{0,1\\}$: \n",
    "\n",
    "$$ \\Pr(y_i|\\mathbf{x}_i;w_0,\\mathbf{w}) = p_i^{y_i}(1-p_i)^{1-y_i} = \\sigma(w_0+\\mathbf{w}^T\\mathbf{x}_i)^{y_i}[1- \\sigma(w_0+\\mathbf{w}^T\\mathbf{x}_i)]^{1-y_i}   $$\n",
    "\n",
    "which is equal to $\\sigma(w_0+\\mathbf{w}^T\\mathbf{x}_i)$ when $y_i=1$ and to $1- \\sigma(w_0+\\mathbf{w}^T\\mathbf{x}_i)$ when $y_i=0$.\n",
    "\n",
    "Because $1-\\sigma(z)=\\sigma(-z)$,  by denoting the negative class with $y=-1$ (instead of 0) we can obtain an equivalent and more compact formulation:\n",
    "\n",
    "$$ \\Pr(y_i|\\mathbf{x}_i;w_0,\\mathbf{w}) = \\sigma\\left(y_i(w_0+\\mathbf{w}^T\\mathbf{x}_i)\\right)$$\n",
    "\n",
    "In this case, the probability is equal to $\\sigma(w_0+\\mathbf{w}^T\\mathbf{x}_i)$ when $y_i=1$ and to $\\sigma(-w_0-\\mathbf{w}^T\\mathbf{x}_i)$ when $y_i=-1$ (check these results by yourself!). \n",
    "\n",
    "From now on, without loss of generality we will **use this second formulation** (and therefore will use $Y \\in \\{-1,1\\}$), as this is the representation used **internally** by **scikit-learn**. Nevertheless, with the first representation we can obtain the same results as the one we are going to see.  \n",
    "\n",
    "Next, when we have a training set with $n$ *independent* examples, we can model the probability of $y_1,...,y_n$ with: \n",
    "\n",
    "$$ \\Pr(y_1,...,y_n|\\mathbf{X};w_0, \\mathbf{w}) = \\prod_{i=1}^{n}\\Pr(y_i|\\mathbf{x}_i;w_0,\\mathbf{w}) = \\prod_{i=1}^{n}\\sigma\\left(y_i(w_0+\\mathbf{w}^T\\mathbf{x}_i)\\right) $$\n",
    "\n",
    "which follows from basic probability theory results. "
   ]
  },
  {
   "cell_type": "markdown",
   "metadata": {},
   "source": [
    "## 2. Model Estimation\n",
    "Training a LR model boils down to learn the parameter vector $\\mathbf{w}$: once we know it, we can easily plug its estimate to the formulas seen in the previous section, as all the other components of the model are observed. \n",
    "\n",
    "**The likelihood function**. The *likelihood function* $\\mathcal{L}(w_0,\\mathbf{w})$ takes the same form of $\\Pr(y_1,...,y_n|\\mathbf{X}; w_0,\\mathbf{w})$, but it is expressed as a function of the parameter $w_0,\\mathbf{w}$ instead of the r.v. $Y_1,...,Y_n$: \n",
    "\n",
    "$$ \\mathcal{L}(w_0,\\mathbf{w}) = \\prod_{i=1}^{n}\\sigma\\left(y_i(w_0+\\mathbf{w}^T\\mathbf{x}_i)\\right)$$\n",
    "\n",
    "Often, it is easier to work with the *logarithm* of such function, because -among other reasons- it involves summation instead of a product. The log-likelihood $\\mathcal{ll}(w_0,\\mathbf{w})$ of the LR model is then defined as: \n",
    "\n",
    "$$ \\mathcal{ll}(w_0,\\mathbf{w}) = log\\left(\\prod_{i=1}^{n}\\sigma(y_i(w_0+\\mathbf{w}^T\\mathbf{x}_i))\\right) = -\\sum_{i=1}^{n}log\\left(1+e^{-y_i(w_0+\\mathbf{w}^T\\mathbf{x}_i)}\\right)  $$\n",
    " \n",
    "(As an exercise, try to show that this result is true.) The following graphs show the log-likelihood function calculated on a simulated dataset; on the left, you can see the log-likelihood as a function of one parameter (called $w$ in the plot); on the right, you can see the contour of the log-likelihood as a function of two coefficients, ($w_1$ and $w_2$). \n",
    "\n",
    "<br>\n",
    "\n",
    "<img src=\"./img/logistic_regression/likelihood_functions.png\" width=\"800\" height=\"50\"/>\n",
    "\n",
    "\n",
    "The plots also indicate the points in which the log-likelihood is *maximized*: that is, it reaches its maximum value. Another reason why the logarithm of the likelihood is used is that it is a *monotonic transformation*; therefore, $\\mathcal{L}(w_0,\\mathbf{w})$ and $\\mathcal{ll}(w_0,\\mathbf{w})$ share the same maximum point.\n",
    "\n",
    "The **values of the arguments**, $w_0$ and $\\mathbf{w}$, where the (log-)**likelihood is maximized** can be considered the ones that **most likely** have **generated** the data (accounting for sampling uncertainty). \n",
    "\n",
    "**Maximum likelihood estimation** refers to finding such optimum parameter $w_0^{opt},\\mathbf{w}^{opt}$, by maximizing the (log)-likelihood function; $w_0^{opt},\\mathbf{w}^{opt}$ is then called **maximum likelihood estimate** (MLE). \n",
    "\n",
    "Let's now denote with $\\tilde{\\mathbf{w}} = [w_0, \\mathbf{w}]$ the vector containing the intercept and all the other model coefficients; and with $\\tilde{\\mathbf{x}}_i = [1, \\mathbf{x}_i]$ the vector which contains a 1 and the vector of observations $\\mathbf{x}_i$.  Because **most optimizers** work by **minimizing the objective function** (a.k.a. loss or cost function) rather than maximizing it, MLE's can be equally found by minimizing the *negative log-likelihood*:  \n",
    "\n",
    "$$ \\mathcal{nll}(\\tilde{\\mathbf{w}}) = \\sum_{i=1}^{n}log\\left(1+e^{-y_i\\tilde{\\mathbf{w}}^T\\tilde{\\mathbf{x}}_i}\\right)  $$\n",
    "\n",
    "and the optimization problem is: \n",
    "\n",
    "$$w_0^{opt},\\mathbf{w}^{opt} = \\tilde{\\mathbf{w}}^{opt}=\\min_{\\tilde{\\mathbf{w}}} \\mathcal{nll}(\\tilde{\\mathbf{w}}) $$\n",
    "\n",
    "The negative log-likelihood of the logistic regression model is called *log loss* in the Machine Learning community. \n",
    "\n",
    "**Finding the MLE**. Let's now denote with $L$ the loss function: \n",
    "\n",
    "$$L(\\tilde{\\mathbf{w}}) = \\frac{1}{n}\\mathcal{nll}(\\tilde{\\mathbf{w}}) = \\frac{1}{n}\\sum_{i=1}^{n}log\\left(1+e^{-y_i\\tilde{\\mathbf{w}}^T\\tilde{\\mathbf{x}}_i}\\right);$$\n",
    "\n",
    "the gradient of $L$ w.r.t. $\\tilde{\\mathbf{w}}$ is: \n",
    "\n",
    "$$ \\nabla L(\\tilde{\\mathbf{w}}) = \n",
    "-\\frac{1}{n}\\sum_{i=1}^{n} \\frac{y_i\\tilde{\\mathbf{x}_i}}{1 + e^{y_i\\tilde{\\mathbf{w}}^T\\tilde{\\mathbf{x}_i}}}$$\n",
    "\n",
    "Once again, check this result by yourself (note that $\\nabla L(\\tilde{\\mathbf{w}})$ is a vector!).\n",
    "\n",
    "Unfortunately, by **equating such derivative to 0**, we cannot find **a closed form solution**. However, it is possible to use algorithms such as *gradient descent*, *stochastic gradient descent*, or *coordinate descent* to optimize the function; in case of **gradient descent**, the **updating equation** -to be iterated until convergence- becomes: \n",
    "\n",
    "$$\\tilde{\\mathbf{w}}_{new} \\leftarrow \\tilde{\\mathbf{w}}_{old} - \\eta   \\nabla L(\\tilde{\\mathbf{w}}_{old}) $$\n",
    "\n",
    "where $\\eta$ is the *learning rate*. Other estimation methods include the *Newton-Rhapson method* and *Iteratively Reweighted least squares* (not covered here). \n",
    "\n",
    "**Note**: while **scikit-learn** uses **modified versions** of Gradient Descent or Newton method (or alternative to those) in the function [LogisticRegression](https://scikit-learn.org/stable/modules/generated/sklearn.linear_model.LogisticRegression.html#sklearn.linear_model.LogisticRegression) (check the `solver` hyperparameter).\n",
    "\n",
    "It also provides a function from the  `sklearn.linear_model` module,  [SGDClassifier](https://scikit-learn.org/stable/modules/generated/sklearn.linear_model.SGDClassifier.html) , which implements stochastic-gradient descent (logistic regression is obtained by setting `loss='log'`). While we will use the `LogisticRegression` function in this notebook, feel free to experiment also with this implementation of logistic regression! "
   ]
  },
  {
   "cell_type": "markdown",
   "metadata": {},
   "source": [
    "## 3. Logistic Regression in scikit-learn\n",
    "In the second section, we are going to simulate a toy dataset and train a logistic regression model with `scikit-learn`; from its output, we are going to inspect the three compoments of the algorithm described in the previous section. "
   ]
  },
  {
   "cell_type": "markdown",
   "metadata": {},
   "source": [
    "### Example on simulated data\n",
    "Data will be simulated with the `sklearn.datasets.make_classification` function; we will generate $n=150$ examples, with two features $X_1$ and $X_2$, and two classes: "
   ]
  },
  {
   "cell_type": "code",
   "execution_count": 2,
   "metadata": {},
   "outputs": [
    {
     "data": {
      "image/png": "[encoded data removed]",
      "text/plain": [
       "<Figure size 360x360 with 1 Axes>"
      ]
     },
     "metadata": {
      "needs_background": "light"
     },
     "output_type": "display_data"
    }
   ],
   "source": [
    "from sklearn.datasets import make_classification\n",
    "from sklearn.model_selection import train_test_split\n",
    "X, y = make_classification(n_samples=200, n_features=2, n_redundant=0, \n",
    "                           n_informative=2, n_clusters_per_class=1, \n",
    "                           flip_y=0.05, class_sep=0.8, random_state=60)\n",
    "X_train, X_test, y_train, y_test = train_test_split(X, y, stratify=y, test_size=0.2, \n",
    "                                                   random_state=1)\n",
    "plt.figure(figsize=(5,5))\n",
    "plt.plot(X_train[y_train==0,0],X_train[y_train==0,1], \"bo\", label=\"Class 0\" )\n",
    "plt.plot(X_train[y_train==1,0],X_train[y_train==1,1], \"o\", color=\"orange\", label=\"Class 1\" )\n",
    "plt.xlabel(r\"$x_1$\", fontsize=12)\n",
    "plt.ylabel(r\"$x_2$\", fontsize=12)\n",
    "plt.legend()\n",
    "plt.show()"
   ]
  },
  {
   "cell_type": "markdown",
   "metadata": {},
   "source": [
    "### 3.1 Model Estimates \n",
    "\n",
    "`LogisticRegression` is in the `sklearn.linear_model` module of scikit-learn. By **default**, the function performs $l_2$ **regularization (Ridge penalty)**. See section 4 for this functionality. For the moment, we are interested in training the model without regularization. Thus, we will set `penalty='none'` when initializing it. "
   ]
  },
  {
   "cell_type": "code",
   "execution_count": 3,
   "metadata": {},
   "outputs": [
    {
     "data": {
      "text/plain": [
       "LogisticRegression(penalty='none')"
      ]
     },
     "execution_count": 3,
     "metadata": {},
     "output_type": "execute_result"
    }
   ],
   "source": [
    "from sklearn.linear_model import LogisticRegression\n",
    "lr_model = LogisticRegression(penalty='none')\n",
    "lr_model.fit(X_train,y_train)"
   ]
  },
  {
   "cell_type": "markdown",
   "metadata": {},
   "source": [
    "The vector of the parameters $\\mathbf{w} = [w_1,w_2]$ can be retrieved via: "
   ]
  },
  {
   "cell_type": "code",
   "execution_count": 7,
   "metadata": {},
   "outputs": [
    {
     "data": {
      "text/plain": [
       "array([-4.94797824, -0.18705931])"
      ]
     },
     "execution_count": 7,
     "metadata": {},
     "output_type": "execute_result"
    }
   ],
   "source": [
    "lr_model.coef_[0]"
   ]
  },
  {
   "cell_type": "code",
   "execution_count": 4,
   "metadata": {
    "scrolled": true
   },
   "outputs": [
    {
     "data": {
      "text/plain": [
       "array([-4.94797824, -0.18705931])"
      ]
     },
     "execution_count": 4,
     "metadata": {},
     "output_type": "execute_result"
    }
   ],
   "source": [
    "w = [lr_model.coef_[0][i] for i in range(X_train.shape[1])]\n",
    "w = np.array(w)\n",
    "w"
   ]
  },
  {
   "cell_type": "markdown",
   "metadata": {},
   "source": [
    "While the intercept term is: "
   ]
  },
  {
   "cell_type": "code",
   "execution_count": 5,
   "metadata": {},
   "outputs": [
    {
     "data": {
      "text/plain": [
       "-0.4189449932841555"
      ]
     },
     "execution_count": 5,
     "metadata": {},
     "output_type": "execute_result"
    }
   ],
   "source": [
    "intercept = lr_model.intercept_[0]\n",
    "intercept"
   ]
  },
  {
   "cell_type": "markdown",
   "metadata": {},
   "source": [
    "Model **coefficients** are clearly telling us that **feature 1 ($x_1$)**, is much more **important** than ($x_2$) at separating the classes, as the **absolute** value of its coefficient is much larger.\n",
    "\n",
    "This can be also noticed from the plot of the dataset shown above, in which we notice that the classes seem to be more separated \"vertically\" than horizontally, or diagonally.\n",
    "\n",
    "We can obtain the **value of the decision function** for each (train/test) **unit**; let's calculate it for the **first** test unit: "
   ]
  },
  {
   "cell_type": "code",
   "execution_count": 12,
   "metadata": {},
   "outputs": [
    {
     "data": {
      "text/plain": [
       "3.2386666869462832"
      ]
     },
     "execution_count": 12,
     "metadata": {},
     "output_type": "execute_result"
    }
   ],
   "source": [
    "# Decision function for first test unit : f(x_i)\n",
    "np.dot(np.r_[(intercept, w)], np.r_[(1, X_test[0])])  # a Dot product of two arrays\n"
   ]
  },
  {
   "cell_type": "markdown",
   "metadata": {},
   "source": [
    "This can also be obtained with the `decision_function` method of LogisticRegression: "
   ]
  },
  {
   "cell_type": "code",
   "execution_count": 84,
   "metadata": {},
   "outputs": [
    {
     "data": {
      "text/plain": [
       "array([3.23866669])"
      ]
     },
     "execution_count": 84,
     "metadata": {},
     "output_type": "execute_result"
    }
   ],
   "source": [
    "# Decision function for first test unit : w(^T)x_i\n",
    "lr_model.decision_function(X_test[0].reshape(1,-1))"
   ]
  },
  {
   "cell_type": "markdown",
   "metadata": {},
   "source": [
    "This value is positive; we expect this unit to belong to the positive class. With what confidence? We can inspect this by calculating the related probability: "
   ]
  },
  {
   "cell_type": "code",
   "execution_count": 85,
   "metadata": {},
   "outputs": [
    {
     "data": {
      "text/plain": [
       "0.9622637237241821"
      ]
     },
     "execution_count": 85,
     "metadata": {},
     "output_type": "execute_result"
    }
   ],
   "source": [
    "sigmoid( np.dot(np.r_[(intercept, w)], np.r_[(1, X_test[0])]) )  "
   ]
  },
  {
   "cell_type": "markdown",
   "metadata": {},
   "source": [
    "Equivalently, scikit-learn calculates the same probability for us: "
   ]
  },
  {
   "cell_type": "code",
   "execution_count": 9,
   "metadata": {},
   "outputs": [
    {
     "data": {
      "text/plain": [
       "array([[0.03773628, 0.96226372]])"
      ]
     },
     "execution_count": 9,
     "metadata": {},
     "output_type": "execute_result"
    }
   ],
   "source": [
    "lr_model.predict_proba(X_test[0].reshape(1,-1))"
   ]
  },
  {
   "cell_type": "markdown",
   "metadata": {},
   "source": [
    "In this case, **two probabilities** are returned: the **first** is the probability to belong to the **negative class**; and the **second** is the probability to belong to the **positive** class. This can be confirmed by checking how scikit-learn sorts the classes: "
   ]
  },
  {
   "cell_type": "code",
   "execution_count": 10,
   "metadata": {},
   "outputs": [
    {
     "data": {
      "text/plain": [
       "array([0, 1])"
      ]
     },
     "execution_count": 10,
     "metadata": {},
     "output_type": "execute_result"
    }
   ],
   "source": [
    "lr_model.classes_"
   ]
  },
  {
   "cell_type": "markdown",
   "metadata": {},
   "source": [
    "Therefore, in the first position we have the elements for \"Class 0\" and in the second position the elements for \"Class 1\". Last, let's obtain the predicted probabilities for the first five units in the training set: "
   ]
  },
  {
   "cell_type": "code",
   "execution_count": 96,
   "metadata": {},
   "outputs": [
    {
     "data": {
      "text/plain": [
       "array([[0.03402446, 0.96597554],\n",
       "       [0.00813653, 0.99186347],\n",
       "       [0.15213048, 0.84786952],\n",
       "       [0.05656707, 0.94343293],\n",
       "       [0.75327352, 0.24672648]])"
      ]
     },
     "execution_count": 96,
     "metadata": {},
     "output_type": "execute_result"
    }
   ],
   "source": [
    "lr_model.predict_proba(X_train[:5])"
   ]
  },
  {
   "cell_type": "markdown",
   "metadata": {},
   "source": [
    "The first four units have a higher probability to belong to Class 1; the fifth unit has a higher probability to belong to Class 0, according to the logistic regression model. "
   ]
  },
  {
   "cell_type": "markdown",
   "metadata": {},
   "source": [
    "What's the model accuracy on the training/test data? We can assess this with the `score` method (as seen in previous lectures). "
   ]
  },
  {
   "cell_type": "code",
   "execution_count": 12,
   "metadata": {},
   "outputs": [
    {
     "data": {
      "text/plain": [
       "0.9375"
      ]
     },
     "execution_count": 12,
     "metadata": {},
     "output_type": "execute_result"
    }
   ],
   "source": [
    "# Training set accuracy \n",
    "lr_model.score(X_train, y_train)"
   ]
  },
  {
   "cell_type": "code",
   "execution_count": 13,
   "metadata": {},
   "outputs": [
    {
     "data": {
      "text/plain": [
       "0.95"
      ]
     },
     "execution_count": 13,
     "metadata": {},
     "output_type": "execute_result"
    }
   ],
   "source": [
    "# Test set accuracy \n",
    "lr_model.score(X_test, y_test)"
   ]
  },
  {
   "cell_type": "markdown",
   "metadata": {},
   "source": [
    "Note: Of course, other metrics are possible (such as confusion matrix, AUC, $f_1$ score, etc.) You can find them in the `metrics` module of scikit-learn. You can check it yourself.  "
   ]
  },
  {
   "cell_type": "markdown",
   "metadata": {},
   "source": [
    "### 3.2 Predictions and decision boundaries \n",
    "\n",
    " Basically **scikit-learn** performs the **predictions** by assigning each unit to the class that has **largest probability** (in the two-class case, this is the class with probability larger than 0.5).\n",
    " \n",
    " Let's do it **'manually'**, before doing it with the scikit-learn function. As done above, let's consider the first five instances of the training dataset: "
   ]
  },
  {
   "cell_type": "code",
   "execution_count": 102,
   "metadata": {},
   "outputs": [
    {
     "data": {
      "text/plain": [
       "array([[0.03402446, 0.96597554],\n",
       "       [0.00813653, 0.99186347],\n",
       "       [0.15213048, 0.84786952],\n",
       "       [0.05656707, 0.94343293],\n",
       "       [0.75327352, 0.24672648]])"
      ]
     },
     "execution_count": 102,
     "metadata": {},
     "output_type": "execute_result"
    }
   ],
   "source": [
    "probs_five_units = lr_model.predict_proba(X_train[:5])\n",
    "probs_five_units"
   ]
  },
  {
   "cell_type": "code",
   "execution_count": 104,
   "metadata": {},
   "outputs": [
    {
     "data": {
      "text/plain": [
       "array([1, 1, 1, 1, 0], dtype=int64)"
      ]
     },
     "execution_count": 104,
     "metadata": {},
     "output_type": "execute_result"
    }
   ],
   "source": [
    "pred_five_units = np.array([np.argmax(x) for x in probs_five_units])\n",
    "pred_five_units"
   ]
  },
  {
   "cell_type": "code",
   "execution_count": 105,
   "metadata": {},
   "outputs": [
    {
     "data": {
      "text/plain": [
       "array([[0.03402446, 0.96597554, 1.        ],\n",
       "       [0.00813653, 0.99186347, 1.        ],\n",
       "       [0.15213048, 0.84786952, 1.        ],\n",
       "       [0.05656707, 0.94343293, 1.        ],\n",
       "       [0.75327352, 0.24672648, 0.        ]])"
      ]
     },
     "execution_count": 105,
     "metadata": {},
     "output_type": "execute_result"
    }
   ],
   "source": [
    "#probs_five_units = lr_model.predict_proba(X_train[:5])\n",
    "#pred_five_units = np.array([np.argmax(x) for x in probs_five_units])\n",
    "np.c_[(probs_five_units, pred_five_units)]"
   ]
  },
  {
   "cell_type": "markdown",
   "metadata": {},
   "source": [
    "**Equivalently**, we can also perform the **prediction** considering the **decision function** (dot product of $\\mathbf{w}$ and $\\mathbf{x}_i$, plus the bias term): "
   ]
  },
  {
   "cell_type": "code",
   "execution_count": 106,
   "metadata": {},
   "outputs": [
    {
     "data": {
      "text/plain": [
       "array([ 3.34605899,  4.80322142,  1.71798822,  2.81409834, -1.11614805])"
      ]
     },
     "execution_count": 106,
     "metadata": {},
     "output_type": "execute_result"
    }
   ],
   "source": [
    "dec_func_five_units = lr_model.decision_function(X_train[:5])\n",
    "dec_func_five_units"
   ]
  },
  {
   "cell_type": "code",
   "execution_count": 111,
   "metadata": {},
   "outputs": [
    {
     "data": {
      "text/plain": [
       "array([1, 1, 1, 1, 0])"
      ]
     },
     "execution_count": 111,
     "metadata": {},
     "output_type": "execute_result"
    }
   ],
   "source": [
    "pred_five_units_2 = np.array([np.where(x >= 0.0,1,0) for x in dec_func_five_units])\n",
    "pred_five_units_2"
   ]
  },
  {
   "cell_type": "code",
   "execution_count": 112,
   "metadata": {},
   "outputs": [
    {
     "data": {
      "text/plain": [
       "array([[ 3.34605899,  1.        ],\n",
       "       [ 4.80322142,  1.        ],\n",
       "       [ 1.71798822,  1.        ],\n",
       "       [ 2.81409834,  1.        ],\n",
       "       [-1.11614805,  0.        ]])"
      ]
     },
     "execution_count": 112,
     "metadata": {},
     "output_type": "execute_result"
    }
   ],
   "source": [
    "#dec_func_five_units = lr_model.decision_function(X_train[:5])\n",
    "#pred_five_units_2 = np.array([np.where(x >= 0.0,1,0) for x in dec_func_five_units])\n",
    "np.c_[(dec_func_five_units, pred_five_units_2)]"
   ]
  },
  {
   "cell_type": "markdown",
   "metadata": {},
   "source": [
    "As seen above, the units in the negative side of the decision boundary belong to the negative class; and vice versa. Let's now make sure that scikit-learn returns our same predictions: "
   ]
  },
  {
   "cell_type": "code",
   "execution_count": 16,
   "metadata": {},
   "outputs": [
    {
     "data": {
      "text/plain": [
       "array([1, 1, 1, 1, 0])"
      ]
     },
     "execution_count": 16,
     "metadata": {},
     "output_type": "execute_result"
    }
   ],
   "source": [
    "lr_model.predict(X_train[:5])"
   ]
  },
  {
   "cell_type": "markdown",
   "metadata": {},
   "source": [
    "And the first five units of the test set (using `predict_proba`): "
   ]
  },
  {
   "cell_type": "code",
   "execution_count": 17,
   "metadata": {},
   "outputs": [
    {
     "data": {
      "text/plain": [
       "array([[0.038, 0.962, 1.   ],\n",
       "       [0.142, 0.858, 1.   ],\n",
       "       [1.   , 0.   , 0.   ],\n",
       "       [0.999, 0.001, 0.   ],\n",
       "       [0.429, 0.571, 1.   ]])"
      ]
     },
     "execution_count": 17,
     "metadata": {},
     "output_type": "execute_result"
    }
   ],
   "source": [
    "probs_five_test_units = lr_model.predict_proba(X_test[:5])\n",
    "pred_five_test_units = np.array([np.argmax(x) for x in probs_five_test_units])\n",
    "np.c_[(probs_five_test_units, pred_five_test_units)].round(3)"
   ]
  },
  {
   "cell_type": "code",
   "execution_count": 18,
   "metadata": {
    "scrolled": true
   },
   "outputs": [
    {
     "data": {
      "text/plain": [
       "array([1, 1, 0, 0, 1])"
      ]
     },
     "execution_count": 18,
     "metadata": {},
     "output_type": "execute_result"
    }
   ],
   "source": [
    "lr_model.predict(X_test[:5])"
   ]
  },
  {
   "cell_type": "markdown",
   "metadata": {},
   "source": [
    "Last, because we are using a dataset with two features, we can visualize the decision boundary graphically: "
   ]
  },
  {
   "cell_type": "code",
   "execution_count": 113,
   "metadata": {
    "scrolled": true
   },
   "outputs": [
    {
     "data": {
      "image/png": "[encoded data removed]",
      "text/plain": [
       "<Figure size 360x360 with 1 Axes>"
      ]
     },
     "metadata": {
      "needs_background": "light"
     },
     "output_type": "display_data"
    }
   ],
   "source": [
    "x2_range = np.linspace(X[:,1].min()-0.1, X[:,1].max()+0.1, 100)\n",
    "dec_bound = (-intercept/w[0]) + (-w[1]/w[0]) * x2_range ## why? Check it yourself.\n",
    "\n",
    "\n",
    "plt.figure(figsize=(5,5))\n",
    "plt.plot(X_train[y_train==0,0], X_train[y_train==0,1], \n",
    "        \"bo\", label=\"Class 0\")\n",
    "plt.plot(X_train[y_train==1,0], X_train[y_train==1,1], \n",
    "        \"o\", color=\"orange\", label=\"Class 1\")\n",
    "plt.plot(dec_bound, x2_range, \"g--\", linewidth=3, label=\"Decision Boundary\")\n",
    "plt.xlabel(r\"$x_1$\", fontsize=12)\n",
    "plt.ylabel(r\"$x_2$\", fontsize=12)\n",
    "plt.legend(loc=1)\n",
    "plt.show()"
   ]
  },
  {
   "cell_type": "markdown",
   "metadata": {},
   "source": [
    "We can also plot the contour of the predicted probabilities: "
   ]
  },
  {
   "cell_type": "markdown",
   "metadata": {},
   "source": [
    "A similar plot can be drawn using the `decision_function`. "
   ]
  },
  {
   "cell_type": "markdown",
   "metadata": {},
   "source": [
    "### 3.3 Model Interpretation \n",
    "Let's see again the intercept and coefficients of the model: "
   ]
  },
  {
   "cell_type": "code",
   "execution_count": 21,
   "metadata": {},
   "outputs": [
    {
     "data": {
      "text/plain": [
       "(-0.4189449932841555, -4.947978240883859, -0.1870593116661846)"
      ]
     },
     "execution_count": 21,
     "metadata": {},
     "output_type": "execute_result"
    }
   ],
   "source": [
    "(intercept, w[0], w[1])"
   ]
  },
  {
   "cell_type": "markdown",
   "metadata": {},
   "source": [
    "How should we interpret them? \n",
    "\n",
    "* The **intercept** is the **expected log-odds ratio** in favor of **Class 1** over Class 0 when **all the features** are equal to **zero** (if exponentiated, it is the expected odds-ratio); when transformed with the **sigmoid function**, it tells us the **\"expected probability\"** to observe the **positive class** when **no other information is used as input**; in this case: "
   ]
  },
  {
   "cell_type": "code",
   "execution_count": 22,
   "metadata": {},
   "outputs": [
    {
     "data": {
      "text/plain": [
       "0.3967692315176172"
      ]
     },
     "execution_count": 22,
     "metadata": {},
     "output_type": "execute_result"
    }
   ],
   "source": [
    "sigmoid(intercept)"
   ]
  },
  {
   "cell_type": "markdown",
   "metadata": {},
   "source": [
    "<!-- When the model is estimated with dummy/one-hot encoded variables excluding a baseline category, this is the expected probability to belong to the positive class for the baseline. -->\n",
    "\n",
    "* The other **coefficients** denote how much the **decision function changes**, as we increase the corresponding feature by 1 unit **while keeping all other features constant**. \n",
    "\n",
    "* These coefficients can also be used to measure *feature importance* (and this is what transformers such as `SelectFromModel` do in scikit-learn), in which case you should consider their absolute values. \n",
    "\n",
    "Now, remember that according to the logit function:<br> $$ w_0+\\mathbf{w}^T\\mathbf{x}_i = log\\left(\\frac{\\sigma(w_0+\\mathbf{w}^T\\mathbf{x}_i)}{1-\\sigma(w_0+\\mathbf{w}^T\\mathbf{x}_i)}\\right) $$ <br> which means that <br> $$e^{w_0+\\mathbf{w}^T\\mathbf{x}_i} = \\frac{\\sigma(w_0+\\mathbf{w}^T\\mathbf{x}_i)}{1-\\sigma(w_0+\\mathbf{w}^T\\mathbf{x}_i)}$$ <br> that is the *odds-ratio* of the probability to belong to the positive vs. negative class. \n",
    "\n",
    "A value of such ratio **equal to 1** means that the two classes have the **same probability**; the larger this ratio, the higher the probability for the unit to belong to class 1; the closer is this ratio to 0, the higher the probability for the unit to belong to class 0. \n",
    "\n",
    "We have seen above that the value of the **log-odds ratio for the first test unit** was about **3.239**; the corresponding odds-ratio is:  "
   ]
  },
  {
   "cell_type": "code",
   "execution_count": 23,
   "metadata": {},
   "outputs": [
    {
     "data": {
      "text/plain": [
       "25.508200788210488"
      ]
     },
     "execution_count": 23,
     "metadata": {},
     "output_type": "execute_result"
    }
   ],
   "source": [
    "np.exp(3.239)"
   ]
  },
  {
   "cell_type": "markdown",
   "metadata": {},
   "source": [
    "Which means this unit is **25 times** more likely to belong to the **positive** than the **negative** class; in other words, the model is very confident to classify such unit in the positive class. \n",
    "\n",
    "Let's now consider our example with $f(\\mathbf{x}_i) = w_0 + w_1x_{i1}+w_2x_{i2}$. Here, $w_1$ can be interpreted as the **expected change in odds-ratio** as we increase $x_1$ by one unit, while holding all other features **constant**. This is because: \n",
    "\n",
    "<br>\n",
    "$$ \\frac{e^{w_0 + w_1(x_{i1} + 1)+w_2x_{i2}}}{e^{w_0 + w_1x_{i1}+w_2x_{i2}}} = e^{w_1}$$ \n",
    "<br>\n",
    "In our example: "
   ]
  },
  {
   "cell_type": "code",
   "execution_count": 24,
   "metadata": {
    "scrolled": true
   },
   "outputs": [
    {
     "data": {
      "text/plain": [
       "0.0070977443621410355"
      ]
     },
     "execution_count": 24,
     "metadata": {},
     "output_type": "execute_result"
    }
   ],
   "source": [
    "np.exp(w[0])"
   ]
  },
  {
   "cell_type": "markdown",
   "metadata": {},
   "source": [
    "that means we expect a strong decrease (times 0.007) in the odds to belong to the positive class (since the value is smaller than 1), as we observe an increase of $x_1$ by one unit while holding $x_2$ constant. \n",
    "\n",
    "This makes sense, as the value of $w_1$ is negative, strongly shifting the odds towards the negative class. \n",
    "\n",
    "(Try to answer this question without performing any calculation: do you expact the increase in odds to be more or less in favor of the positive class for $w_2$? Try to answer intuitively, and then check your intuition with `np.exp(w[1])`). "
   ]
  },
  {
   "cell_type": "markdown",
   "metadata": {},
   "source": [
    "* `scikit-learn` is a library for Machine Learning, rather than Statistics. Therefore, it doesn't output the statistical significance of each coefficient. If you want to fit a logistic model and observe standard errors and p-values of the coefficients, you should use the module for [Generalized Linear Models](https://www.statsmodels.org/dev/glm.html) of the `statsmodels` library. "
   ]
  },
  {
   "cell_type": "markdown",
   "metadata": {},
   "source": [
    "===========================================================================================================================\n",
    "\n",
    "## Extra topics for interested students: \n",
    "\n",
    "\n",
    "==========================================================================================================================="
   ]
  },
  {
   "cell_type": "markdown",
   "metadata": {},
   "source": [
    "### 4.1 Ridge Logistic Regression \n",
    "Consider the following dataset: "
   ]
  },
  {
   "cell_type": "code",
   "execution_count": 25,
   "metadata": {
    "scrolled": true
   },
   "outputs": [],
   "source": [
    "data_imp = pd.read_csv(\"./data/logistic_regression/ridge_lr_example.csv\")"
   ]
  },
  {
   "cell_type": "code",
   "execution_count": 26,
   "metadata": {},
   "outputs": [
    {
     "data": {
      "text/plain": [
       "(199, 200)"
      ]
     },
     "execution_count": 26,
     "metadata": {},
     "output_type": "execute_result"
    }
   ],
   "source": [
    "X = data_imp.drop(\"y\", axis=1)\n",
    "y = data_imp[\"y\"]\n",
    "X.shape"
   ]
  },
  {
   "cell_type": "code",
   "execution_count": 27,
   "metadata": {},
   "outputs": [],
   "source": [
    "from sklearn.model_selection import train_test_split\n",
    "from sklearn.preprocessing import StandardScaler\n",
    "# We retain 10% of the instances for the test set\n",
    "X_train, X_test, y_train, y_test = train_test_split(X, y, stratify=y, test_size=0.1, \n",
    "                                                   random_state=1)\n",
    "# We scale the features with standardization (for resons that will become clear in a bit): \n",
    "standardizer = StandardScaler()\n",
    "X_train_scaled = standardizer.fit_transform(X_train)\n",
    "X_test_scaled = standardizer.transform(X_test)"
   ]
  },
  {
   "cell_type": "markdown",
   "metadata": {},
   "source": [
    "What happens when we estimate a 'unregularized' (that is, without penalty, unrestricted) LR model? Let's compare the accuracy on the training and test set, as well 5-fold-cross-validation accuracy. "
   ]
  },
  {
   "cell_type": "code",
   "execution_count": 28,
   "metadata": {},
   "outputs": [
    {
     "name": "stdout",
     "output_type": "stream",
     "text": [
      "Accuracy on training set:1.00\n",
      "CV score:0.75\n",
      "Test score:0.70\n"
     ]
    }
   ],
   "source": [
    "from sklearn.model_selection import cross_val_score\n",
    "log_reg_unrestricted = LogisticRegression(penalty=\"none\")\n",
    "log_reg_unrestricted.fit(X_train_scaled, y_train)\n",
    "print(\"Accuracy on training set:{:.2f}\".format(log_reg_unrestricted.score(X_train_scaled, y_train)))\n",
    "print(\"CV score:{:.2f}\".format(cross_val_score(log_reg_unrestricted, X_train_scaled,y_train, cv=5).mean()))\n",
    "print(\"Test score:{:.2f}\".format(log_reg_unrestricted.score(X_test_scaled, y_test)))"
   ]
  },
  {
   "cell_type": "markdown",
   "metadata": {},
   "source": [
    "The model is clearly overfitting, and therefore too complex! This can happen because the model is unconstrained, learning coefficients that are too 'suited' to the training data, leading to a high-variance model and therefor not generalizing well. Introducing the ridge penalty is a way to overcome these problems, as the coefficients of the model (included in the vector $\\mathbf{w}$) are shrunk towards a value of $0$ (reducing in this way the variance of the model - but increasing its bias!). In ridge regression, the penalty term applies to the square of the *Euclidean Norm* (a.k.a. $l_2$ norm) of $\\mathbf{w}$. Such penalty is defined as $||\\mathbf{w}||_2^2 = \\mathbf{w}^T\\mathbf{w} = \\sum_{j=1}^{p} w_j^2$ (note that the intercept is not penalized). We see that the norm puts a penalty on the squares of the weights, encouraging the model to favor smaller values. In order to regulate the strength of the penalty, the norm is multiplied by a value $\\lambda \\geq 0 \\in \\mathbb{R}$. The optimal $\\lambda$ can be tuned, for example, by means of cross-validation. \n",
    "\n",
    "The new objective function to minimize thus now becomes: \n",
    "\n",
    "$$\\tilde{\\mathbf{w}}^{opt} =\\min_{\\tilde{\\mathbf{w}}}\\ \\mathcal{nll}(\\tilde{\\mathbf{w}})\\ + \\lambda\\left(\\mathbf{w}^T\\mathbf{w}\\right) $$\n",
    "\n",
    "or, equivalently, \n",
    "\n",
    "$$\\tilde{\\mathbf{w}}^{opt} =\\min_{\\tilde{\\mathbf{w}}}\\ \\mathbf{w}^T\\mathbf{w} \\ + C\\cdot\\mathcal{nll}(\\tilde{\\mathbf{w}}) $$\n",
    "\n",
    "where $C=\\frac{1}{\\lambda}$ (also $ \\geq 0$) is the *inverse of the regularization strength*. (Notice that the objective is in the form Regularizer + Loss: we will encounter this type of problems again during the course). The two optimization problems just outlined are equivalent; in the second one, we obtain more penalized solutions (that is, coefficients closer to 0) when we decrease $C$, and we obtain more unconstrained solutions as we increase it towards $+\\infty$ (while the opposite is true when using $\\lambda$); indeed, when increasing $C$ we allow for larger values in the objective function. Notice that this is equivalent to the optimization problem [used in scikit-learn](https://scikit-learn.org/stable/modules/linear_model.html#logistic-regression) (in the scikit-learn page the intercept term is called $c$, while in our formualtion it is embedded in the vector $\\tilde{\\mathbf{w}}$).\n",
    "\n",
    "In [scikit-learn](https://scikit-learn.org/stable/modules/generated/sklearn.linear_model.LogisticRegression.html#sklearn.linear_model.LogisticRegression), the Ridge Penalty is set by default (`penalty='l2'` in the corresponding argument), and the (inverse of) regularization strength can be changed with the hyperparameter `C` (set equal to 1.0 by default). First, let's make sure that a large value of `C` leads indeed to the same results of a unrestricted model. \n",
    "\n",
    "**Note**: before performing ridge regression, or any other form of regularization, it is important to scale the features first, as features observed under different scales might receive a different amount of penalty! This is why we have rescaled the features above. "
   ]
  },
  {
   "cell_type": "code",
   "execution_count": 29,
   "metadata": {},
   "outputs": [
    {
     "name": "stdout",
     "output_type": "stream",
     "text": [
      "Accuracy on training set:1.00\n",
      "CV score:0.75\n",
      "Test score:0.70\n"
     ]
    }
   ],
   "source": [
    "log_reg_unrestricted_2 = LogisticRegression(penalty=\"l2\", C=1000000000)\n",
    "log_reg_unrestricted_2.fit(X_train_scaled, y_train)\n",
    "print(\"Accuracy on training set:{:.2f}\".format(log_reg_unrestricted_2.score(X_train_scaled, y_train)))\n",
    "print(\"CV score:{:.2f}\".format(cross_val_score(log_reg_unrestricted_2, X_train_scaled,y_train, cv=5).mean()))\n",
    "print(\"Test score:{:.2f}\".format(log_reg_unrestricted_2.score(X_test_scaled, y_test)))"
   ]
  },
  {
   "cell_type": "markdown",
   "metadata": {},
   "source": [
    "Let's now see what happens in the opposite extreme, that is, when `C` is very small: "
   ]
  },
  {
   "cell_type": "code",
   "execution_count": 30,
   "metadata": {
    "scrolled": false
   },
   "outputs": [
    {
     "name": "stdout",
     "output_type": "stream",
     "text": [
      "Accuracy on training set:0.55\n",
      "CV score:0.55\n",
      "Test score:0.55\n"
     ]
    }
   ],
   "source": [
    "log_reg_too_simple = LogisticRegression(penalty='l2', C=1e-4, max_iter=1e+05)\n",
    "log_reg_too_simple.fit(X_train, y_train)\n",
    "print(\"Accuracy on training set:{:.2f}\".format(log_reg_too_simple.score(X_train_scaled, y_train)))\n",
    "print(\"CV score:{:.2f}\".format(cross_val_score(log_reg_too_simple, X_train_scaled,y_train, cv=5).mean()))\n",
    "print(\"Test score:{:.2f}\".format(log_reg_too_simple.score(X_test_scaled, y_test)))"
   ]
  },
  {
   "cell_type": "markdown",
   "metadata": {},
   "source": [
    "In this case, the model is clearly underfitting: it shrinks the coefficients too much, and it is not able to learn an optimal separating hyperplane from the training data. Let's now find an optimal value for 'C' by using 5-fold cross-validation: "
   ]
  },
  {
   "cell_type": "code",
   "execution_count": 31,
   "metadata": {
    "scrolled": true
   },
   "outputs": [
    {
     "name": "stdout",
     "output_type": "stream",
     "text": [
      "Done\n"
     ]
    }
   ],
   "source": [
    "from sklearn.model_selection import GridSearchCV\n",
    "# Search across a grid of 100 equi-distant values in the log-space between 1e-4 and 20\n",
    "param_grid = {'C': np.exp( np.linspace(np.log(1e-4), np.log(20), 100)) }\n",
    "clf = GridSearchCV(LogisticRegression(penalty='l2', max_iter=1e+07), param_grid, cv=5, n_jobs=-1)\n",
    "clf.fit(X_train_scaled, y_train)\n",
    "print(\"Done\")"
   ]
  },
  {
   "cell_type": "code",
   "execution_count": 32,
   "metadata": {
    "scrolled": true
   },
   "outputs": [
    {
     "data": {
      "text/plain": [
       "0.8050793650793651"
      ]
     },
     "execution_count": 32,
     "metadata": {},
     "output_type": "execute_result"
    }
   ],
   "source": [
    "# Best CV accuracy: \n",
    "clf.best_score_"
   ]
  },
  {
   "cell_type": "markdown",
   "metadata": {},
   "source": [
    "As we can notice, regularizing has improved the CV accuracy to 80.5%. "
   ]
  },
  {
   "cell_type": "code",
   "execution_count": 33,
   "metadata": {},
   "outputs": [
    {
     "data": {
      "text/plain": [
       "{'C': 0.022699345303073458}"
      ]
     },
     "execution_count": 33,
     "metadata": {},
     "output_type": "execute_result"
    }
   ],
   "source": [
    "# Best C value: \n",
    "clf.best_params_"
   ]
  },
  {
   "cell_type": "code",
   "execution_count": 34,
   "metadata": {
    "scrolled": false
   },
   "outputs": [
    {
     "data": {
      "image/png": "[encoded data removed]",
      "text/plain": [
       "<Figure size 720x360 with 1 Axes>"
      ]
     },
     "metadata": {
      "needs_background": "light"
     },
     "output_type": "display_data"
    }
   ],
   "source": [
    "cv_res = pd.DataFrame(clf.cv_results_).sort_values(by=\"param_C\")\n",
    "plt.figure(figsize=(10,5))\n",
    "x_ax = np.linspace(0, cv_res.shape[0], cv_res.shape[0])\n",
    "plt.plot(x_ax, cv_res[\"mean_test_score\"], \"b-\")\n",
    "plt.plot(cv_res[\"mean_test_score\"].idxmax(),clf.best_score_, \"go\", label=\"Best Hyperparameter Value\")\n",
    "plt.xticks(x_ax, (cv_res[\"param_C\"]).astype(\"float64\").round(20), rotation=90, fontsize=6)\n",
    "plt.xlabel(\"C\")\n",
    "plt.ylabel(\"CV Accuracy\")\n",
    "plt.title(\"Ridge Regression: Regularization\")\n",
    "plt.legend(loc=4)\n",
    "plt.show()"
   ]
  },
  {
   "cell_type": "markdown",
   "metadata": {},
   "source": [
    "The best accuracy has been reached for three distinct C values:"
   ]
  },
  {
   "cell_type": "code",
   "execution_count": 35,
   "metadata": {},
   "outputs": [
    {
     "data": {
      "text/html": [
       "<div>\n",
       "<style scoped>\n",
       "    .dataframe tbody tr th:only-of-type {\n",
       "        vertical-align: middle;\n",
       "    }\n",
       "\n",
       "    .dataframe tbody tr th {\n",
       "        vertical-align: top;\n",
       "    }\n",
       "\n",
       "    .dataframe thead th {\n",
       "        text-align: right;\n",
       "    }\n",
       "</style>\n",
       "<table border=\"1\" class=\"dataframe\">\n",
       "  <thead>\n",
       "    <tr style=\"text-align: right;\">\n",
       "      <th></th>\n",
       "      <th>param_C</th>\n",
       "      <th>mean_test_score</th>\n",
       "    </tr>\n",
       "  </thead>\n",
       "  <tbody>\n",
       "    <tr>\n",
       "      <th>44</th>\n",
       "      <td>0.0226993</td>\n",
       "      <td>0.805079</td>\n",
       "    </tr>\n",
       "    <tr>\n",
       "      <th>59</th>\n",
       "      <td>0.144278</td>\n",
       "      <td>0.805079</td>\n",
       "    </tr>\n",
       "    <tr>\n",
       "      <th>60</th>\n",
       "      <td>0.16321</td>\n",
       "      <td>0.805079</td>\n",
       "    </tr>\n",
       "  </tbody>\n",
       "</table>\n",
       "</div>"
      ],
      "text/plain": [
       "      param_C  mean_test_score\n",
       "44  0.0226993         0.805079\n",
       "59   0.144278         0.805079\n",
       "60    0.16321         0.805079"
      ]
     },
     "execution_count": 35,
     "metadata": {},
     "output_type": "execute_result"
    }
   ],
   "source": [
    "cv_res.loc[np.where(cv_res['mean_test_score']==clf.best_score_)[0], [\"param_C\",\"mean_test_score\"]]"
   ]
  },
  {
   "cell_type": "markdown",
   "metadata": {},
   "source": [
    "In this case, scikit-learn has chosen the minimum C which leads to best accuracy; the benefit of this is that such value produces the simplest models among the three best performing ones. This might not always be the case (depending on whether the complexity parameter is sorted in increasing or decreasing order), so you should always check the value picked by scikit-learn. Let's now check the training and test error: "
   ]
  },
  {
   "cell_type": "code",
   "execution_count": 36,
   "metadata": {
    "scrolled": false
   },
   "outputs": [
    {
     "data": {
      "text/plain": [
       "0.8"
      ]
     },
     "execution_count": 36,
     "metadata": {},
     "output_type": "execute_result"
    }
   ],
   "source": [
    "clf.best_estimator_.score(X_test_scaled,y_test)"
   ]
  },
  {
   "cell_type": "markdown",
   "metadata": {},
   "source": [
    "Which is about 10% improvement w.r.t. the unconstrained logistic regression (with a much simpler model!). Last, let's compare the first 50 coefficients returned by ridge logistic regression vs. the unpenalized model: "
   ]
  },
  {
   "cell_type": "code",
   "execution_count": 37,
   "metadata": {},
   "outputs": [
    {
     "data": {
      "image/png": "[encoded data removed]",
      "text/plain": [
       "<Figure size 720x288 with 1 Axes>"
      ]
     },
     "metadata": {
      "needs_background": "light"
     },
     "output_type": "display_data"
    }
   ],
   "source": [
    "plt.figure(figsize=(10,4))\n",
    "max_var = 50\n",
    "x_ax = np.linspace(0, max_var, max_var)\n",
    "plt.plot(x_ax, log_reg_unrestricted.coef_[0, :max_var], \"bo\", label=\"Unconstrained Model\")\n",
    "plt.plot(x_ax, clf.best_estimator_.coef_[0, :max_var], \"go\", label=\"Ridge Log. Regression\")\n",
    "plt.plot(x_ax, np.repeat(0, max_var), \"k-\", linewidth=2)\n",
    "plt.xlabel(\"Var\")\n",
    "plt.ylabel(\"Coef. Value\")\n",
    "plt.xticks(x_ax, X.columns[:max_var], rotation=90)\n",
    "plt.ylim(-3, 3)\n",
    "plt.legend()\n",
    "plt.show()"
   ]
  },
  {
   "cell_type": "markdown",
   "metadata": {},
   "source": [
    "It is clearly visible that the coefficients estimated by ridge logistic regression are much closer to 0 than those estimated without penalty. "
   ]
  },
  {
   "cell_type": "markdown",
   "metadata": {},
   "source": [
    "### 4.2 Lasso Penalty \n",
    "A problem with ridge regression is that it doesn't set the coefficients of features that are not significant for prediction exactly equal to 0, and therefore it is not the best tool to perform feature selection. An alternative penalty that does this is the *lasso* penalty. This is also called $l_1$ regularization, as it performs the shrinkage of the coefficients in their $L_1$ norm, defined as $||\\mathbf{w}||_1 = \\sum_{j=1}^{p}|w_j|$. Unlike the $l_2$ penalty, lasso performs the shrinkage using the absolute value of the coefficients, and this modification is enough to allow the optimizer to set some of the model parameters to $0$. Lasso penalty is a very useful tool for model selection *in the linear space of the features* (it is a common choice to use it in combination with `SelectFromModel` in scikit-learn). The new optimization problem now is: \n",
    "\n",
    "\n",
    "$$\\tilde{\\mathbf{w}}^{opt} =\\min_{\\tilde{\\mathbf{w}}}\\ ||\\mathbf{w}||_1 \\ + C\\cdot\\mathcal{nll}(\\tilde{\\mathbf{w}}) $$\n",
    "\n",
    "In scikit-learn, the lasso penalty for Logistic Regression can be set with `penalty='l1'`; as seen for the ridge case, higher `C` values mean less regularization, while lower `C` values will set more coefficients equal to 0. In this case, it is important to set `solver='liblinear'` to perform the training (use `solver='saga'` instead when you work with a large dataset). Last, as seen in the previous section, it is important to scale the features also when working with the lasso penalty. "
   ]
  },
  {
   "cell_type": "code",
   "execution_count": 38,
   "metadata": {},
   "outputs": [],
   "source": [
    "data_imp = pd.read_csv(\"./data/logistic_regression/lasso_lr_example.csv\")"
   ]
  },
  {
   "cell_type": "code",
   "execution_count": 39,
   "metadata": {},
   "outputs": [
    {
     "data": {
      "text/plain": [
       "(500, 50)"
      ]
     },
     "execution_count": 39,
     "metadata": {},
     "output_type": "execute_result"
    }
   ],
   "source": [
    "X = data_imp.drop(\"y\", axis=1)\n",
    "y = data_imp[\"y\"]\n",
    "X.shape"
   ]
  },
  {
   "cell_type": "code",
   "execution_count": 40,
   "metadata": {},
   "outputs": [],
   "source": [
    "from sklearn.model_selection import train_test_split\n",
    "from sklearn.preprocessing import StandardScaler\n",
    "# We retain 20% of the instances for the test set\n",
    "X_train, X_test, y_train, y_test = train_test_split(X, y, stratify=y, test_size=0.2, \n",
    "                                                   random_state=1)\n",
    "standardizer = StandardScaler()\n",
    "X_train_scaled = standardizer.fit_transform(X_train)\n",
    "X_test_scaled = standardizer.transform(X_test)"
   ]
  },
  {
   "cell_type": "markdown",
   "metadata": {},
   "source": [
    "As done earlier, let's first train a non-penalized LR model on this dataset: "
   ]
  },
  {
   "cell_type": "code",
   "execution_count": 41,
   "metadata": {},
   "outputs": [
    {
     "name": "stdout",
     "output_type": "stream",
     "text": [
      "Accuracy on training set:0.84\n",
      "CV score:0.78\n",
      "Accuracy on test set:0.72\n"
     ]
    }
   ],
   "source": [
    "log_reg_unrestricted = LogisticRegression(penalty=\"none\")\n",
    "log_reg_unrestricted.fit(X_train_scaled, y_train)\n",
    "print(\"Accuracy on training set:{:.2f}\".format(log_reg_unrestricted.score(X_train_scaled, y_train)))\n",
    "print(\"CV score:{:.2f}\".format(cross_val_score(log_reg_unrestricted, X_train_scaled,y_train, cv=5).mean()))\n",
    "print(\"Accuracy on test set:{:.2f}\".format(log_reg_unrestricted.score(X_test_scaled, y_test)))"
   ]
  },
  {
   "cell_type": "markdown",
   "metadata": {},
   "source": [
    "We suspect that not all features are useful to perform prediction; unfortunately, we cannot perform feature selection by evaluating the coefficients of the unregularized model: "
   ]
  },
  {
   "cell_type": "code",
   "execution_count": 42,
   "metadata": {},
   "outputs": [
    {
     "data": {
      "text/plain": [
       "array([[-7.81907215e-01,  3.20235157e-01,  6.64842465e-01,\n",
       "         8.07552378e-01,  3.00616900e-02,  7.45443555e-01,\n",
       "        -7.82764330e-01, -4.00794170e-04,  6.91876378e-01,\n",
       "        -8.77883086e-01,  7.67326242e-01, -2.00125299e-01,\n",
       "         2.81016348e-01, -7.37146714e-01,  5.78736715e-02,\n",
       "         1.27086015e-01, -1.25833301e+00,  5.45330035e-01,\n",
       "         8.47906423e-02, -5.24700389e-01,  1.35863322e-01,\n",
       "         2.52867769e-01, -1.09046821e-01, -5.40242112e-02,\n",
       "        -8.65126685e-02, -2.06722101e-01, -1.36386822e-01,\n",
       "         2.65044772e-01, -2.41756065e-01, -3.88048995e-02,\n",
       "        -1.03847669e-01,  5.53204676e-02,  3.33342013e-01,\n",
       "        -6.79865341e-02,  1.22410935e-02,  1.26835820e-02,\n",
       "         6.01167174e-03,  1.84695920e-01, -2.39693294e-01,\n",
       "         3.42024488e-01, -1.53094043e-01, -9.28224648e-02,\n",
       "         4.45131682e-03,  3.37828228e-01, -6.13693053e-02,\n",
       "        -1.31982465e-01, -4.81392942e-02,  1.16325962e-01,\n",
       "         1.72368257e-01, -3.33623072e-01]])"
      ]
     },
     "execution_count": 42,
     "metadata": {},
     "output_type": "execute_result"
    }
   ],
   "source": [
    "log_reg_unrestricted.coef_"
   ]
  },
  {
   "cell_type": "markdown",
   "metadata": {},
   "source": [
    "We now tune a LR model with lasso penalty:"
   ]
  },
  {
   "cell_type": "code",
   "execution_count": 43,
   "metadata": {},
   "outputs": [
    {
     "name": "stdout",
     "output_type": "stream",
     "text": [
      "Done\n"
     ]
    }
   ],
   "source": [
    "from sklearn.model_selection import GridSearchCV\n",
    "# Search across a grid of 100 equi-distant values in the log-space between 1e-2 and 20\n",
    "param_grid = {'C': np.exp( np.linspace(np.log(1e-2), np.log(20), 100) ) }\n",
    "clf = GridSearchCV(LogisticRegression(penalty='l1', max_iter=1e+07, solver='liblinear'), \n",
    "                   param_grid, cv=5, n_jobs=-1)\n",
    "clf.fit(X_train_scaled, y_train)\n",
    "print(\"Done\")"
   ]
  },
  {
   "cell_type": "code",
   "execution_count": 44,
   "metadata": {
    "scrolled": true
   },
   "outputs": [
    {
     "data": {
      "text/plain": [
       "0.7874999999999999"
      ]
     },
     "execution_count": 44,
     "metadata": {},
     "output_type": "execute_result"
    }
   ],
   "source": [
    "# Best CV accuracy: \n",
    "clf.best_score_"
   ]
  },
  {
   "cell_type": "code",
   "execution_count": 45,
   "metadata": {},
   "outputs": [
    {
     "data": {
      "text/plain": [
       "{'C': 0.46471518800784045}"
      ]
     },
     "execution_count": 45,
     "metadata": {},
     "output_type": "execute_result"
    }
   ],
   "source": [
    "# Best C value: \n",
    "clf.best_params_"
   ]
  },
  {
   "cell_type": "code",
   "execution_count": 46,
   "metadata": {},
   "outputs": [
    {
     "data": {
      "image/png": "[encoded data removed]",
      "text/plain": [
       "<Figure size 720x360 with 1 Axes>"
      ]
     },
     "metadata": {
      "needs_background": "light"
     },
     "output_type": "display_data"
    }
   ],
   "source": [
    "cv_res = pd.DataFrame(clf.cv_results_).sort_values(by=\"param_C\")\n",
    "plt.figure(figsize=(10,5))\n",
    "x_ax = np.linspace(0, cv_res.shape[0], cv_res.shape[0])\n",
    "plt.plot(x_ax, cv_res[\"mean_test_score\"], \"b-\")\n",
    "plt.plot(cv_res[\"mean_test_score\"].idxmax()+1,clf.best_score_, \"go\", label=\"Best CV Estimator\")\n",
    "plt.xticks(x_ax, (cv_res[\"param_C\"]).astype(\"float64\").round(20), rotation=90, fontsize=6)\n",
    "plt.xlabel(\"C\")\n",
    "plt.ylabel(\"CV Accuracy\")\n",
    "plt.title(\"Lasso Regression: Regularization\")\n",
    "plt.legend(loc=2)\n",
    "plt.show()"
   ]
  },
  {
   "cell_type": "code",
   "execution_count": 47,
   "metadata": {},
   "outputs": [
    {
     "data": {
      "text/plain": [
       "0.73"
      ]
     },
     "execution_count": 47,
     "metadata": {},
     "output_type": "execute_result"
    }
   ],
   "source": [
    "clf.best_estimator_.score(X_test_scaled,y_test)"
   ]
  },
  {
   "cell_type": "markdown",
   "metadata": {},
   "source": [
    "Thus, the score on the test set is 1% higher than the unconstrained mode, while using fewer features for prediction: "
   ]
  },
  {
   "cell_type": "code",
   "execution_count": 48,
   "metadata": {},
   "outputs": [
    {
     "data": {
      "image/png": "[encoded data removed]",
      "text/plain": [
       "<Figure size 720x288 with 1 Axes>"
      ]
     },
     "metadata": {
      "needs_background": "light"
     },
     "output_type": "display_data"
    }
   ],
   "source": [
    "plt.figure(figsize=(10,4))\n",
    "x_ax = np.linspace(0, X_train.shape[1], X_train.shape[1])\n",
    "plt.plot(x_ax, log_reg_unrestricted.coef_[0], \"bo\", label=\"Unconstrained Model\")\n",
    "plt.plot(x_ax, clf.best_estimator_.coef_[0], \"go\", label=\"Lasso Log. Regression\")\n",
    "plt.plot(x_ax, np.repeat(0, X_train.shape[1]), \"k-\", linewidth=2)\n",
    "plt.xlabel(\"Var\")\n",
    "plt.ylabel(\"Coef. Value\")\n",
    "plt.xticks(x_ax, X.columns[:max_var], rotation=90)\n",
    "plt.ylim(-2,2)\n",
    "plt.legend()\n",
    "plt.show()"
   ]
  },
  {
   "cell_type": "markdown",
   "metadata": {},
   "source": [
    "Let's check the coefficient values: "
   ]
  },
  {
   "cell_type": "code",
   "execution_count": 49,
   "metadata": {},
   "outputs": [
    {
     "data": {
      "text/plain": [
       "array([['X1', -0.5877515591340959],\n",
       "       ['X2', 0.23372208554436832],\n",
       "       ['X3', 0.49662622479849744],\n",
       "       ['X4', 0.6356759060372371],\n",
       "       ['X5', 0.0013614924581881811],\n",
       "       ['X6', 0.5601939976665865],\n",
       "       ['X7', -0.6061436516656317],\n",
       "       ['X8', 0.0],\n",
       "       ['X9', 0.5219914619103989],\n",
       "       ['X10', -0.6383734157334986],\n",
       "       ['X11', 0.5708136748489007],\n",
       "       ['X12', -0.11115559032633483],\n",
       "       ['X13', 0.17501469566387853],\n",
       "       ['X14', -0.5310917479047531],\n",
       "       ['X15', 0.06561911477884641],\n",
       "       ['X16', 0.06533177874097316],\n",
       "       ['X17', -0.9979663705966588],\n",
       "       ['X18', 0.4125270709041956],\n",
       "       ['X19', 0.05599048857823384],\n",
       "       ['X20', -0.39459384984990054],\n",
       "       ['X21', 0.048547105065561105],\n",
       "       ['X22', 0.16389029174540864],\n",
       "       ['X23', 0.0],\n",
       "       ['X24', -0.03636182595533285],\n",
       "       ['X25', -0.04224200189514692],\n",
       "       ['X26', -0.08325793329151539],\n",
       "       ['X27', -0.0884648388249253],\n",
       "       ['X28', 0.14026162189673386],\n",
       "       ['X29', -0.167554662324954],\n",
       "       ['X30', 0.0],\n",
       "       ['X31', -0.029991081295016528],\n",
       "       ['X32', 0.0012388318844334734],\n",
       "       ['X33', 0.20911320715115428],\n",
       "       ['X34', -0.0216174852612373],\n",
       "       ['X35', 0.0],\n",
       "       ['X36', 0.0],\n",
       "       ['X37', 0.0],\n",
       "       ['X38', 0.1290277215187521],\n",
       "       ['X39', -0.14608049008173957],\n",
       "       ['X40', 0.21283997580911876],\n",
       "       ['X41', -0.0757792371329192],\n",
       "       ['X42', -0.07137058313324744],\n",
       "       ['X43', 0.0],\n",
       "       ['X44', 0.2167592050217754],\n",
       "       ['X45', -0.0055717700265045045],\n",
       "       ['X46', -0.10550347601214427],\n",
       "       ['X47', -0.033859446477882395],\n",
       "       ['X48', 0.021017690794257478],\n",
       "       ['X49', 0.10205776223590415],\n",
       "       ['X50', -0.2122464958408478]], dtype=object)"
      ]
     },
     "execution_count": 49,
     "metadata": {},
     "output_type": "execute_result"
    }
   ],
   "source": [
    "np.c_[(X_train.columns, clf.best_estimator_.coef_[0])]"
   ]
  },
  {
   "cell_type": "markdown",
   "metadata": {},
   "source": [
    "Thus, the following variables are not used for predictions by lasso ridge regression: "
   ]
  },
  {
   "cell_type": "code",
   "execution_count": 50,
   "metadata": {},
   "outputs": [
    {
     "data": {
      "text/plain": [
       "Index(['X8', 'X23', 'X30', 'X35', 'X36', 'X37', 'X43'], dtype='object')"
      ]
     },
     "execution_count": 50,
     "metadata": {},
     "output_type": "execute_result"
    }
   ],
   "source": [
    "X_train.columns[clf.best_estimator_.coef_[0]==0]"
   ]
  },
  {
   "cell_type": "markdown",
   "metadata": {},
   "source": [
    "### 4.3 Other remarks on Regularized Logistic Regression \n",
    "* The ridge penalty can be beneficial when dealing with datasets having more features than observations ($p>n$ case), and/or in presence of linearly correlated features (\"multicollinearity\"), as it decreases the model's *degrees of freedom* \n",
    "* There is another regularization technique, called 'elastic net', that combines ridge and lasso; in the logistic regression model of scikit-learn you can use it by setting the options `penalty='elasticnet'`, `solver='saga'`. In this case you have two hyperparameters to tune: `C`, which controls the amount of regularization, and `l1_ratio` (between 0 and 1) which balances the $l_1$ vs. $l_2$ regularization (for example, `l1_ratio=0` is equivalent to ridge regression; `l1_ratio=1` is equivalent to lasso regression; and values in the middle try to weight the two penalties). Such penalty is useful in all cases where the ridge penalty is useful (multicollinearity, etc.), but we also want to perform feature selection. In Section 7 below, you will see an example of elastic-net applied to the Heart Dataset. Note: with `solver=saga` you should also set the `random_state` for reproducibility; see the sklearn documentation page\n",
    "* scikit-learn also provides [RidgeClassifier](https://scikit-learn.org/stable/modules/generated/sklearn.linear_model.RidgeClassifier.html), which can be faster than `LogisticRegression` with $l_2$ penalty in the multi-class case (with RidgeClassifier, the penalty term `alpha` works in the oppositve way of `C`: the larger `alpha` is, the more the model is regularized)\n",
    "* If you have doubts about which penalty to use, remember that you can tune the hyperparameter `penalty` as well by including it in the parameter grid of GridSearchCV. For example you can set a grid similar to the following one: <br> ```param_grid = {'penalty': ['l1','l2'], 'C': np.exp( np.linspace(np.log(1e-2), np.log(20), 100))}``` or even with penalty-specific values of C\n",
    "* Once again, remember to scale the features before performing any sort of regularization! \n",
    "* You can use one-hot encoding with all categories (including the baseline) when working with regularized linear models (exclude the baseline if you are using linear models without regularization!)"
   ]
  },
  {
   "cell_type": "markdown",
   "metadata": {},
   "source": [
    "## 5. Multi-Class Case"
   ]
  },
  {
   "cell_type": "markdown",
   "metadata": {},
   "source": [
    "We have already seen in previous lectures that classification with several classes  ($C>2$; don't confuse the $C$ used here to denote the number of classes with the regularization parameter just encountered!) can be performed with two approaches: \n",
    "* One-versus-All (a.k.a. One-Versus-Rest, OvR) where we train as many models as there are classes, each time considering a new class as the positive one\n",
    "* One-versus-one where we train the models with two classes at a time, and we consider all possible pairs of classes\n",
    "\n",
    "In both cases, a set of binary LR models is learned, obtaining in this way different parameter estimates. In particular, in the OvR approach there are as many sets of parameters ($[w_0,\\mathbf{w}]$ vectors) as the number of classes. To convert the class-specific decision functions into probabilities, we use the *softmax function*: \n",
    "\n",
    "$$\\Pr(y_i=c|\\mathbf{x}_i)=p_{i,c}=softmax(w_{0,c}, \\mathbf{w}_c, \\mathbf{x}_i)= \\frac{e^{w_{0,c}+\\mathbf{w}^T_c\\mathbf{x}_i}}{\\sum_{k=1}^{C}e^{w_{0,k}+\\mathbf{w}^T_k\\mathbf{x}_i}}$$\n",
    "\n",
    "where $w_{0,c}, \\mathbf{w}_c$ are the intercepts and coefficients estimated for the model of the $c$-th class. The observations are then predicted to the class that maximizes $softmax(w_{0,c}, \\mathbf{w}_c, \\mathbf{x}_i)$ or, equivalently, that maximizes $f_c(\\mathbf{x}_i) = w_{0,c}+\\mathbf{w}^T_c\\mathbf{x}_i$.   \n",
    "\n",
    "\n",
    "Alternatively, some classifiers can work directly with more than two classes. This happens to be the case for the logistic regression model; instead of the Binomial distribution, the [multinomial distribution](https://en.wikipedia.org/wiki/Multinomial_distribution) is maximized in this case. The Multinomial distribution is the extension of the Binomial to more than two categories. If we consider the likelihood of such distribution, and take its negative logarithm (as done in the binary case above), we obtain the *cross-entropy*, which -once rescaled by the training sample size, $n$- becomes the new loss function to minimize: \n",
    "\n",
    "$$ L(\\mathbf{w}) =  -\\frac{1}{n}\\sum_{i=1}^{n}\\sum_{c=1}^{C}{y_{i,c}}log\\left(\\hat{p}_{i,c}\\right)  $$\n",
    "\n",
    "where $\\hat{p}_{i,c}=\\Pr(y_{i,c}=1|\\mathbf{x}_i)=softmax\\left(w_{0,c}, \\mathbf{w}_c,\\mathbf{x}_i\\right)$ is the estimated probability of class $c$ and $y_{i,c}$ is the $c$-the element of a $C$-dimensional output vector equal to 1 when unit $i$ is in class $c$, and 0 otherwise. In practice, the output variable is one-hot encoded before estimating the algorithm (once again, this is done internally in scikit-learn). The gradient of $L(\\mathbf{w})$ w.r.t. the set of coefficients in the $c$-th class, $\\tilde{\\mathbf{w}}_c = [w_{0,c}, \\mathbf{w}_c]$, is: \n",
    "\n",
    "$$ \\nabla_{\\tilde{\\mathbf{w}}_c} L(\\mathbf{w}) = \\frac{1}{n}\\sum_{i=1}^{N}\\left(\\hat{p}_{i,c}-y_{i,c}\\right)\\tilde{\\mathbf{x}}_i\n",
    "$$\n",
    "\n",
    "Here, $\\tilde{\\mathbf{x}}_i$ is defined as we did in the binary binomial regression section. Once again, we can use gradient descent, or (by deriving second-order derivatives) Newton-Rhapson to find the otpimal solution. Data points are predicted to the class $c$ that maximizes $\\hat{p}_{i,c}$ (or, which is equivalent, $f_c(\\mathbf{x}_i) = w_{0,c}+\\mathbf{w}^T_c\\mathbf{x}_i$). \n",
    "\n",
    "***\n",
    "\n",
    "In this section, we are going to explore the output provided by scikit-learn with the multinomial model and the OvR approach."
   ]
  },
  {
   "cell_type": "markdown",
   "metadata": {},
   "source": [
    "### 5.1 Toy Dataset\n",
    "We are going to generate an example with four classes and two features in order to ease visualization. As done above, we are going to use `make_classification` from the scikit-learn library. "
   ]
  },
  {
   "cell_type": "code",
   "execution_count": 51,
   "metadata": {},
   "outputs": [
    {
     "data": {
      "image/png": "[encoded data removed]",
      "text/plain": [
       "<Figure size 360x360 with 1 Axes>"
      ]
     },
     "metadata": {
      "needs_background": "light"
     },
     "output_type": "display_data"
    }
   ],
   "source": [
    "from sklearn.datasets import make_classification\n",
    "from sklearn.model_selection import train_test_split\n",
    "# n=240 instances\n",
    "X, y = make_classification(n_samples=240, n_features=2, n_redundant=0, \n",
    "                           n_informative=2, n_clusters_per_class=1, n_classes=4, \n",
    "                           flip_y=0.05, class_sep=1.2, random_state=2)\n",
    "X_train, X_test, y_train, y_test = train_test_split(X, y, stratify=y, test_size=0.2, \n",
    "                                                   random_state=1)\n",
    "plt.figure(figsize=(5,5))\n",
    "plt.plot(X_train[y_train==0,0],X_train[y_train==0,1], \"bo\", label=\"Class 0\" )\n",
    "plt.plot(X_train[y_train==1,0],X_train[y_train==1,1], \"o\", color=\"orange\", label=\"Class 1\" )\n",
    "plt.plot(X_train[y_train==2,0],X_train[y_train==2,1], \"mo\", label=\"Class 2\" )\n",
    "plt.plot(X_train[y_train==3,0],X_train[y_train==3,1], \"go\", label=\"Class 3\" )\n",
    "plt.xlabel(r\"$x_1$\", fontsize=12)\n",
    "plt.ylabel(r\"$x_2$\", fontsize=12)\n",
    "plt.legend()\n",
    "plt.show()"
   ]
  },
  {
   "cell_type": "markdown",
   "metadata": {},
   "source": [
    "## 5.2 multi_class = 'multinomial' \n",
    "We now train a logistic regression model on this dataset, by maximizing the parameters of the multinomial distribution; in order to do so, we need to set `multi_class='multinomial'` (notice that we won't specify any penalty, which means that $l_2$ regularization with $C=1$ is set by default; therefore, we will standardize the features first):"
   ]
  },
  {
   "cell_type": "code",
   "execution_count": 52,
   "metadata": {},
   "outputs": [
    {
     "data": {
      "text/plain": [
       "array([[  7.80372538,   0.6402735 ,   2.46402513, -10.90802401],\n",
       "       [  1.35572831,   2.81636467,  -3.28143292,  -0.89066007],\n",
       "       [ -1.41177674,  -1.14921368,   0.9345383 ,   1.62645213],\n",
       "       [  1.34997805,   1.72290285,  -1.79266536,  -1.28021554],\n",
       "       [ -2.29239567,  -0.96651267,   0.30601069,   2.95289766]])"
      ]
     },
     "execution_count": 52,
     "metadata": {},
     "output_type": "execute_result"
    }
   ],
   "source": [
    "standardizer = StandardScaler()\n",
    "X_train_st = standardizer.fit_transform(X_train)\n",
    "X_test_st = standardizer.transform(X_test)\n",
    "multi_lr = LogisticRegression(multi_class='multinomial')\n",
    "multi_lr.fit(X_train_st, y_train)\n",
    "# Obtain decision function for first five training unit\n",
    "multi_lr.decision_function(X_train_st[:5])"
   ]
  },
  {
   "cell_type": "markdown",
   "metadata": {},
   "source": [
    "As we can see, the decision function has now as many values as there are classes; the first row, for example, is telling us that the first training unit lies (according to the model) well inside the portion of hyperplane reserved to the first class (Class 0). This is because the largest value of the decision function for the first training instance corresponds to the one of Class 0. Let's convert such values into probabilities with the softmax function:  "
   ]
  },
  {
   "cell_type": "code",
   "execution_count": 53,
   "metadata": {
    "scrolled": true
   },
   "outputs": [
    {
     "data": {
      "text/plain": [
       "array([0.994, 0.001, 0.005, 0.   ])"
      ]
     },
     "execution_count": 53,
     "metadata": {},
     "output_type": "execute_result"
    }
   ],
   "source": [
    "softmax( multi_lr.decision_function(X_train_st[0].reshape(1,-1))[0] ).round(3)"
   ]
  },
  {
   "cell_type": "markdown",
   "metadata": {},
   "source": [
    "Thus, the first trainign instance has 99.4% probability to belong to Class 0, and only 0.1% to belong to Class 1 and 0.5% to belong to Class 2. We can also retrieve such probabilities with scikit-learn; let's do it for the first 5 units in the training set:"
   ]
  },
  {
   "cell_type": "code",
   "execution_count": 54,
   "metadata": {},
   "outputs": [
    {
     "data": {
      "text/plain": [
       "array([[0.994, 0.001, 0.005, 0.   ],\n",
       "       [0.184, 0.794, 0.002, 0.02 ],\n",
       "       [0.03 , 0.039, 0.311, 0.621],\n",
       "       [0.39 , 0.566, 0.017, 0.028],\n",
       "       [0.005, 0.018, 0.065, 0.912]])"
      ]
     },
     "execution_count": 54,
     "metadata": {},
     "output_type": "execute_result"
    }
   ],
   "source": [
    "multi_lr.predict_proba(X_train_st[:5]).round(3)"
   ]
  },
  {
   "cell_type": "markdown",
   "metadata": {},
   "source": [
    "As you can see, all probabilities sum to 1. Let's do the same for the first 5 units in the test set:"
   ]
  },
  {
   "cell_type": "code",
   "execution_count": 55,
   "metadata": {},
   "outputs": [
    {
     "data": {
      "text/plain": [
       "array([[0.003, 0.031, 0.009, 0.957],\n",
       "       [0.976, 0.007, 0.017, 0.   ],\n",
       "       [0.153, 0.769, 0.005, 0.073],\n",
       "       [0.265, 0.654, 0.015, 0.066],\n",
       "       [0.148, 0.005, 0.845, 0.002]])"
      ]
     },
     "execution_count": 55,
     "metadata": {},
     "output_type": "execute_result"
    }
   ],
   "source": [
    "multi_lr.predict_proba(X_test_st[:5]).round(3)"
   ]
  },
  {
   "cell_type": "markdown",
   "metadata": {},
   "source": [
    "We are now going to assess the accuracy on the test set:"
   ]
  },
  {
   "cell_type": "code",
   "execution_count": 56,
   "metadata": {},
   "outputs": [
    {
     "data": {
      "text/plain": [
       "0.9166666666666666"
      ]
     },
     "execution_count": 56,
     "metadata": {},
     "output_type": "execute_result"
    }
   ],
   "source": [
    "multi_lr.score(X_test_st,y_test)"
   ]
  },
  {
   "cell_type": "markdown",
   "metadata": {},
   "source": [
    "Pretty good! How are the (few) errors made by the model distributed? We can check it with the *confusion matrix* (already discussed in previous lectures): "
   ]
  },
  {
   "cell_type": "code",
   "execution_count": 57,
   "metadata": {
    "scrolled": true
   },
   "outputs": [
    {
     "data": {
      "text/plain": [
       "<Figure size 360x360 with 0 Axes>"
      ]
     },
     "metadata": {},
     "output_type": "display_data"
    },
    {
     "data": {
      "image/png": "[encoded data removed]",
      "text/plain": [
       "<Figure size 432x288 with 2 Axes>"
      ]
     },
     "metadata": {
      "needs_background": "light"
     },
     "output_type": "display_data"
    }
   ],
   "source": [
    "from sklearn.metrics import plot_confusion_matrix\n",
    "plt.figure(figsize=(5,5))\n",
    "plot_confusion_matrix(multi_lr, X_test_st, y_test, cmap=plt.cm.Blues)\n",
    "plt.show()"
   ]
  },
  {
   "cell_type": "markdown",
   "metadata": {},
   "source": [
    "We can see, for example, that instances that belong to Class 1 are all predicted correctly. Let's check the coefficients: "
   ]
  },
  {
   "cell_type": "code",
   "execution_count": 58,
   "metadata": {
    "scrolled": true
   },
   "outputs": [
    {
     "data": {
      "text/plain": [
       "array([[-1.46231256, -1.73350446],\n",
       "       [ 1.16604347, -1.73343693],\n",
       "       [-2.22018203,  1.61725311],\n",
       "       [ 2.51645112,  1.84968828]])"
      ]
     },
     "execution_count": 58,
     "metadata": {},
     "output_type": "execute_result"
    }
   ],
   "source": [
    "multi_lr.coef_"
   ]
  },
  {
   "cell_type": "markdown",
   "metadata": {},
   "source": [
    "The first coefficient (-1.46) is telling us that, as we increase the first feature by one unit while holding constant the second feature, we are decreasing the odds-ratios of belonging to Class 0 by about 23% (as you can notice from the plot of the data points):  "
   ]
  },
  {
   "cell_type": "code",
   "execution_count": 59,
   "metadata": {},
   "outputs": [
    {
     "data": {
      "text/plain": [
       "0.23223627472975883"
      ]
     },
     "execution_count": 59,
     "metadata": {},
     "output_type": "execute_result"
    }
   ],
   "source": [
    "np.exp(-1.46)"
   ]
  },
  {
   "cell_type": "markdown",
   "metadata": {},
   "source": [
    "Now the intercepts (one for each class): "
   ]
  },
  {
   "cell_type": "code",
   "execution_count": 60,
   "metadata": {},
   "outputs": [
    {
     "data": {
      "text/plain": [
       "array([ 0.59451017,  0.22397109, -0.07389668, -0.74458458])"
      ]
     },
     "execution_count": 60,
     "metadata": {},
     "output_type": "execute_result"
    }
   ],
   "source": [
    "multi_lr.intercept_"
   ]
  },
  {
   "cell_type": "markdown",
   "metadata": {},
   "source": [
    "Last, since we are working with just two features, we can plot the decision boundaries and the estimated probabilities (in this case, to belong to Class 1): "
   ]
  },
  {
   "cell_type": "code",
   "execution_count": 61,
   "metadata": {},
   "outputs": [
    {
     "data": {
      "image/png": "[encoded data removed]",
      "text/plain": [
       "<Figure size 1080x360 with 2 Axes>"
      ]
     },
     "metadata": {
      "needs_background": "light"
     },
     "output_type": "display_data"
    }
   ],
   "source": [
    "from matplotlib.colors import ListedColormap\n",
    "custom_cmap = ListedColormap(['blue','orange','magenta', 'green'])\n",
    "\n",
    "x0, x1 = np.meshgrid(\n",
    "        np.linspace(X[:,0].min()-0.1, X[:,0].max()+0.1, 500).reshape(-1, 1),\n",
    "        np.linspace(X[:,1].min()-0.1, X[:,1].max()+0.1, 500).reshape(-1, 1),\n",
    ")\n",
    "X_new = np.c_[x0.ravel(), x1.ravel()]\n",
    "\n",
    "y_proba = multi_lr.predict_proba(X_new)\n",
    "y_predict = multi_lr.predict(X_new)\n",
    "\n",
    "zz1 = y_proba[:, 1].reshape(x0.shape)\n",
    "zz = y_predict.reshape(x0.shape)\n",
    "\n",
    "plt.figure(figsize=(15, 5))\n",
    "plt.subplot(121)\n",
    "plt.plot(X_train[y_train==3, 0], X_train[y_train==3, 1],  \"go\", label=\"Class 3\")\n",
    "plt.plot(X_train[y_train==2, 0], X_train[y_train==2, 1], \"mo\", label=\"Class 2\")\n",
    "plt.plot(X_train[y_train==1, 0], X_train[y_train==1, 1], \"o\", color=\"orange\", label=\"Class 1\")\n",
    "plt.plot(X_train[y_train==0, 0], X_train[y_train==0, 1], \"bo\", label=\"Class 0\")\n",
    "plt.contour(x0, x1, zz, cmap=custom_cmap, alpha=0.25)\n",
    "\n",
    "plt.xlabel(\"x1\")\n",
    "plt.ylabel(\"x2\")\n",
    "plt.title(\"Decision Boundaries\")\n",
    "plt.legend()\n",
    "\n",
    "plt.subplot(122)\n",
    "plt.plot(X_train[y_train==3, 0], X_train[y_train==3, 1],  \"go\", label=\"Class 3\")\n",
    "plt.plot(X_train[y_train==2, 0], X_train[y_train==2, 1], \"mo\", label=\"Class 2\")\n",
    "plt.plot(X_train[y_train==1, 0], X_train[y_train==1, 1], \"o\", color=\"orange\", label=\"Class 1\")\n",
    "plt.plot(X_train[y_train==0, 0], X_train[y_train==0, 1], \"bo\", label=\"Class 0\")\n",
    "contour = plt.contour(x0, x1, zz1, 20, cmap=plt.cm.brg, alpha=0.9)\n",
    "plt.clabel(contour, inline=1, fontsize=9)\n",
    "\n",
    "plt.xlabel(\"x1\")\n",
    "plt.ylabel(\"x2\")\n",
    "plt.title(\"Predicted Probability of Class 1\")\n",
    "\n",
    "plt.show()"
   ]
  },
  {
   "cell_type": "markdown",
   "metadata": {},
   "source": [
    "### 5.3 multi_class='ovr'\n",
    "Here, we explore the output of the OvR classifier. (Once again, by default we are implicitly estimating the model(s) with $l_2$ regularization and C=1)."
   ]
  },
  {
   "cell_type": "code",
   "execution_count": 62,
   "metadata": {},
   "outputs": [
    {
     "data": {
      "text/plain": [
       "array([[  6.72423597,  -3.09488123,  -0.84247026, -15.53481049],\n",
       "       [ -0.84170202,   0.93703158,  -6.93387955,  -3.71598029],\n",
       "       [ -4.43388499,  -3.81002283,  -1.09542012,  -0.19140687],\n",
       "       [ -0.92554859,  -0.50757126,  -5.04948192,  -4.05155429],\n",
       "       [ -5.47524242,  -3.41074244,  -1.72981104,   1.38654367]])"
      ]
     },
     "execution_count": 62,
     "metadata": {},
     "output_type": "execute_result"
    }
   ],
   "source": [
    "multi_lr = LogisticRegression(multi_class='ovr')\n",
    "multi_lr.fit(X_train_st, y_train)\n",
    "# Obtain decision function for first five training unit\n",
    "multi_lr.decision_function(X_train_st[:5])"
   ]
  },
  {
   "cell_type": "markdown",
   "metadata": {},
   "source": [
    "In this case, the vector of decision functions report the values of the linear predictor, $w_0+\\mathbf{w}^T\\mathbf{x}_i$, calculated for each single One-vs-Rest model. Such values are automatically transformed into probabilities and normalized by `predict_proba`: "
   ]
  },
  {
   "cell_type": "code",
   "execution_count": 63,
   "metadata": {},
   "outputs": [
    {
     "data": {
      "text/plain": [
       "array([[0.744, 0.032, 0.224, 0.   ],\n",
       "       [0.288, 0.688, 0.001, 0.023],\n",
       "       [0.016, 0.029, 0.34 , 0.614],\n",
       "       [0.416, 0.55 , 0.009, 0.025],\n",
       "       [0.004, 0.032, 0.153, 0.811]])"
      ]
     },
     "execution_count": 63,
     "metadata": {},
     "output_type": "execute_result"
    }
   ],
   "source": [
    "multi_lr.predict_proba(X_train_st[:5]).round(3)"
   ]
  },
  {
   "cell_type": "markdown",
   "metadata": {},
   "source": [
    "The coefficients arrays (and intercepts) too, report the parameters $\\mathbf{w}$ for each single model:"
   ]
  },
  {
   "cell_type": "code",
   "execution_count": 64,
   "metadata": {
    "scrolled": true
   },
   "outputs": [
    {
     "data": {
      "text/plain": [
       "array([[-1.6685092 , -2.19724004],\n",
       "       [ 1.80352098, -1.98121839],\n",
       "       [-2.54173073,  2.36226703],\n",
       "       [ 2.89284132,  2.44485522]])"
      ]
     },
     "execution_count": 64,
     "metadata": {},
     "output_type": "execute_result"
    }
   ],
   "source": [
    "multi_lr.coef_"
   ]
  },
  {
   "cell_type": "code",
   "execution_count": 65,
   "metadata": {},
   "outputs": [
    {
     "data": {
      "text/plain": [
       "array([-1.93544462, -2.35394385, -2.73729401, -3.22099833])"
      ]
     },
     "execution_count": 65,
     "metadata": {},
     "output_type": "execute_result"
    }
   ],
   "source": [
    "multi_lr.intercept_"
   ]
  },
  {
   "cell_type": "markdown",
   "metadata": {},
   "source": [
    "### 5.4 Lasso Penalty \n",
    "Both the multinomial and the OvR models support also lasso penalty, if `solver='saga'` is set (remember to set the `random_state` for reproducibility in this case!). Each class will have its own values of coefficients set to 0 (as different features have different predicting power on different classes). However, the `multinomial` and `ovr` approach won't necessarily lead to the same set of selected coefficients for a given value of `C`; we can see an example on the toy dataset and with C=0.0269. "
   ]
  },
  {
   "cell_type": "code",
   "execution_count": 66,
   "metadata": {},
   "outputs": [
    {
     "data": {
      "text/plain": [
       "array([[-0.07152168, -0.1938015 ],\n",
       "       [ 0.0394215 ,  0.        ],\n",
       "       [-0.00523392,  0.07876013],\n",
       "       [ 0.00147591,  0.        ]])"
      ]
     },
     "execution_count": 66,
     "metadata": {},
     "output_type": "execute_result"
    }
   ],
   "source": [
    "multi_lr = LogisticRegression(multi_class='multinomial', penalty='l1', solver='saga',\n",
    "                              random_state=1, C=0.0269)\n",
    "multi_lr.fit(X_train_st, y_train)\n",
    "multi_lr.coef_"
   ]
  },
  {
   "cell_type": "code",
   "execution_count": 67,
   "metadata": {
    "scrolled": true
   },
   "outputs": [
    {
     "data": {
      "text/plain": [
       "array([[-0.08299083, -0.22091873],\n",
       "       [ 0.06978676,  0.        ],\n",
       "       [ 0.        ,  0.1472553 ],\n",
       "       [ 0.01880736,  0.04014106]])"
      ]
     },
     "execution_count": 67,
     "metadata": {},
     "output_type": "execute_result"
    }
   ],
   "source": [
    "multi_lr = LogisticRegression(multi_class='ovr', penalty='l1', solver='saga', \n",
    "                              random_state=1, C=0.0269)\n",
    "multi_lr.fit(X_train_st, y_train)\n",
    "multi_lr.coef_"
   ]
  },
  {
   "cell_type": "markdown",
   "metadata": {},
   "source": [
    "In the first case (multinomial) feature 2 is removed from the predictors of Class 1 and 3; in the second case (ovr) feature 1 is removed from the set of predictors of Class 2, while feature 2 is removed only for the prediction of Class 1. "
   ]
  },
  {
   "cell_type": "markdown",
   "metadata": {},
   "source": [
    "## 6. Logistic Regression: Other Remarks\n",
    "* Being a linear model, LR is able to find only linear main effects of the predictors (unless interactions or higher degrees polynomials are specified)\n",
    "* LR is an easily interpretable model, as we just need to interpret the linear coefficients (which can easily be converted into odds-ratios and probabilities)\n",
    "* As all linear models, it works well in high dimensions, since it can more easily find a hyperplane separating the classes when more features are present "
   ]
  },
  {
   "cell_type": "markdown",
   "metadata": {},
   "source": [
    "## 7. Example on the Heart Dataset\n",
    "In the \"Data Preprocessing\" notebook we preprocessed the Heart dataset (by imputing its missing values, one-hot encoding the categorical features, and standardizing the continuous ones). As you remember, the goal with such data is to try to predict the presence/absence of heart disease given some clinical and personal information of a sample of patients (such as Age, Sex, Cholesterol level, and so on). We are now going to: \n",
    "\n",
    "* load the train/test datasets\n",
    "* tune an elastic-net penalty on this Data, using10-fold-CV; we will tune the `l1_ratio` hyperparameter including the values 0 and 1, to check whether a Ridge-only or Lasso-only penalties lead to a better accuracy on such dataset \n",
    "* evaluate the final model accuracy on the test set "
   ]
  },
  {
   "cell_type": "code",
   "execution_count": 68,
   "metadata": {},
   "outputs": [],
   "source": [
    "# 1. Load datasets\n",
    "data_train = pd.read_csv(\"./data/heart_data/heart_train_processed.csv\")\n",
    "data_test = pd.read_csv(\"./data/heart_data/heart_test_processed.csv\")\n",
    "X_train = data_train.drop(\"y\", axis=1)\n",
    "X_test = data_test.drop(\"y\", axis=1)\n",
    "y_train = data_train[\"y\"]\n",
    "y_test = data_test[\"y\"]"
   ]
  },
  {
   "cell_type": "code",
   "execution_count": 69,
   "metadata": {
    "scrolled": true
   },
   "outputs": [
    {
     "name": "stdout",
     "output_type": "stream",
     "text": [
      "CV Grid Search: Done\n"
     ]
    }
   ],
   "source": [
    "# 2a. Prepare parameter Grid for elastic-net \n",
    "# For C, we will use a grid of 120 equi-distant values in the log space between 1e-4 and 70\n",
    "param_grid = {'C': np.exp( np.linspace(np.log(1e-4), np.log(70), 120)), 'l1_ratio':np.linspace(0, 1, 11) }\n",
    "\n",
    "# 2b. Run GridSearchCV with 10-fold-cv\n",
    "clf = GridSearchCV(LogisticRegression(penalty='elasticnet', max_iter=1e+07, solver='saga', random_state=1), \n",
    "                   param_grid, cv=10, n_jobs=-1)\n",
    "clf.fit(X_train, y_train)\n",
    "print(\"CV Grid Search: Done\")"
   ]
  },
  {
   "cell_type": "code",
   "execution_count": 70,
   "metadata": {},
   "outputs": [
    {
     "data": {
      "text/plain": [
       "{'C': 0.1391817007674836, 'l1_ratio': 0.8}"
      ]
     },
     "execution_count": 70,
     "metadata": {},
     "output_type": "execute_result"
    }
   ],
   "source": [
    "# 3. Check results\n",
    "clf.best_params_"
   ]
  },
  {
   "cell_type": "markdown",
   "metadata": {},
   "source": [
    "Thus, the best model consists of a mix of $l_2$ regularization (which accounts for 20% of the penalty) and $l_1$ regularization (which accounts for 80% of the penalty), and $C$ equal to (about) 0.139. Let's check the CV estimate of test accuracy:"
   ]
  },
  {
   "cell_type": "code",
   "execution_count": 71,
   "metadata": {
    "scrolled": true
   },
   "outputs": [
    {
     "data": {
      "text/plain": [
       "0.8513333333333334"
      ]
     },
     "execution_count": 71,
     "metadata": {},
     "output_type": "execute_result"
    }
   ],
   "source": [
    "clf.best_score_"
   ]
  },
  {
   "cell_type": "markdown",
   "metadata": {},
   "source": [
    "Now, let's plot a *heatmap* of the CV accuracies obtained for each combination of `C` and `l1_ratio`: "
   ]
  },
  {
   "cell_type": "code",
   "execution_count": 72,
   "metadata": {},
   "outputs": [],
   "source": [
    "cv_res = pd.DataFrame(clf.cv_results_)\n",
    "scores = np.array(cv_res.mean_test_score).reshape(120, 11).transpose()"
   ]
  },
  {
   "cell_type": "code",
   "execution_count": 73,
   "metadata": {
    "scrolled": false
   },
   "outputs": [
    {
     "data": {
      "image/png": "[encoded data removed]",
      "text/plain": [
       "<Figure size 648x360 with 2 Axes>"
      ]
     },
     "metadata": {
      "needs_background": "light"
     },
     "output_type": "display_data"
    }
   ],
   "source": [
    "plt.figure(figsize=(9,5))\n",
    "ax = plt.gca()\n",
    "img = ax.pcolor(scores, cmap=\"viridis\", edgecolors='k', linewidths=0.1, alpha=.95)\n",
    "ind = np.unravel_index(np.argmax(scores, axis=None), scores.shape)\n",
    "plt.plot(ind[1], ind[0]+0.5, \"gh\", label=\"Best CV score\")\n",
    "img.update_scalarmappable()\n",
    "ax.set_ylabel(\"l1_ratio\")\n",
    "ax.set_xlabel(\"C\")\n",
    "ax.set_yticks(np.arange(len(param_grid[\"l1_ratio\"])) + .5)\n",
    "ax.set_xticks([i for i in np.arange(len(param_grid[\"C\"])) if i%5==0])\n",
    "ax.set_yticklabels(param_grid[\"l1_ratio\"].round(1))\n",
    "ax.set_xticklabels([param_grid[\"C\"][i].round(5) for i in np.arange(len(param_grid['C'])) if i%5==0], rotation=90)\n",
    "plt.colorbar(img)\n",
    "plt.legend()\n",
    "plt.show()"
   ]
  },
  {
   "cell_type": "markdown",
   "metadata": {},
   "source": [
    "We observe that best CV accuracies are obtained for intermediate values of C (among the ones included in the grid), while the performance when varying `l1_ratio` really depends on the values of C. It is possible to repeat CV with values of C closer to the one that has got the best CV score (\"zooming in\" that area) - try it as an exercise! \n",
    "Last, we assess what model coefficients have been set to 0 by the portion of lasso penalty (these can also be used for feature importance and feature selection when using a LR model as selector): "
   ]
  },
  {
   "cell_type": "code",
   "execution_count": 74,
   "metadata": {},
   "outputs": [
    {
     "data": {
      "text/plain": [
       "array([['Age', 0.0],\n",
       "       ['RestBP', 0.0971897766842867],\n",
       "       ['Chol', 0.0],\n",
       "       ['RestECG', 0.18128207041769026],\n",
       "       ['MaxHR', -0.23364279631771936],\n",
       "       ['Oldpeak', 0.31984869911321917],\n",
       "       ['Slope', 0.18859542403879057],\n",
       "       ['Ca', 0.6407950732570404],\n",
       "       ['CholBySex', 0.3603189567875196],\n",
       "       ['ChestPain_asymptomatic', 1.0433181322968024],\n",
       "       ['ChestPain_nonanginal', 0.0],\n",
       "       ['ChestPain_nontypical', 0.0],\n",
       "       ['ChestPain_typical', 0.0],\n",
       "       ['Thal_fixed', 0.0],\n",
       "       ['Thal_normal', -0.4536144137171297],\n",
       "       ['Thal_reversable', 0.4707974906421091],\n",
       "       ['Sex', 0.0],\n",
       "       ['Fbs', 0.0],\n",
       "       ['ExAng', 0.10366402600477662]], dtype=object)"
      ]
     },
     "execution_count": 74,
     "metadata": {},
     "output_type": "execute_result"
    }
   ],
   "source": [
    "np.c_[(X_train.columns, clf.best_estimator_.coef_[0])]"
   ]
  },
  {
   "cell_type": "markdown",
   "metadata": {},
   "source": [
    "Having a high maximum heart rate (MaxHR) decreases (while holding constant all other features) the probability of heart disease, while increasing values for features such as Oldpeak and Slope increases that probability (while controlling for other features). Variables such as Age, Chol, Fbs, and Sex are not considered relevant by the elastic-net LR model. Also, the categories ChestPain_nontypical, ChestPain_typical, ChestPain_nonanginal and Thal_fixed are not informative for the prediction of heart disease (how would you interpret the coefficients of 0 for such categories?). The estimated intercept term is: "
   ]
  },
  {
   "cell_type": "code",
   "execution_count": 75,
   "metadata": {
    "scrolled": true
   },
   "outputs": [
    {
     "data": {
      "text/plain": [
       "array([-0.61440103])"
      ]
     },
     "execution_count": 75,
     "metadata": {},
     "output_type": "execute_result"
    }
   ],
   "source": [
    "clf.best_estimator_.intercept_"
   ]
  },
  {
   "cell_type": "markdown",
   "metadata": {},
   "source": [
    "Last, we are going to assess the accuracy of the best CV model on the test set: "
   ]
  },
  {
   "cell_type": "code",
   "execution_count": 76,
   "metadata": {},
   "outputs": [
    {
     "data": {
      "text/plain": [
       "0.8688524590163934"
      ]
     },
     "execution_count": 76,
     "metadata": {},
     "output_type": "execute_result"
    }
   ],
   "source": [
    "clf.best_estimator_.score(X_test,y_test)"
   ]
  },
  {
   "cell_type": "code",
   "execution_count": null,
   "metadata": {},
   "outputs": [],
   "source": []
  }
 ],
 "metadata": {
  "kernelspec": {
   "display_name": "Python 3 (ipykernel)",
   "language": "python",
   "name": "python3"
  },
  "language_info": {
   "codemirror_mode": {
    "name": "ipython",
    "version": 3
   },
   "file_extension": ".py",
   "mimetype": "text/x-python",
   "name": "python",
   "nbconvert_exporter": "python",
   "pygments_lexer": "ipython3",
   "version": "3.9.7"
  }
 },
 "nbformat": 4,
 "nbformat_minor": 2
}
