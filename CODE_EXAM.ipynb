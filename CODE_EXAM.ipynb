{
 "cells": [
  {
   "cell_type": "code",
   "execution_count": 87,
   "id": "283f74ec-d614-488f-8eba-31db6c6b30c0",
   "metadata": {},
   "outputs": [],
   "source": [
    "###########CODE\n",
    "import math\n",
    "import numpy as np\n",
    "from sklearn.linear_model import LinearRegression\n",
    "from sklearn.preprocessing import PolynomialFeatures\n",
    "from sklearn.decomposition import TruncatedSVD\n",
    "\n",
    "from sklearn import datasets\n",
    "import matplotlib.pyplot as plt\n",
    "from matplotlib.patches import Ellipse\n",
    "import matplotlib.transforms as transforms\n",
    "\n",
    "from sklearn.decomposition import PCA\n",
    "from sklearn.decomposition import TruncatedSVD\n",
    "from mpl_toolkits import mplot3d\n",
    "import pandas as pd\n",
    "\n",
    "from matplotlib import animation\n",
    "from IPython.display import HTML\n"
   ]
  },
  {
   "cell_type": "markdown",
   "id": "f312f04d-91f0-4697-9f1d-dcbf68866be0",
   "metadata": {},
   "source": [
    "# GRADIENT \n",
    "LINK https://www.symbolab.com/solver/gradient-calculator/gradient%20x%5E%7B2%7D%2By%5E%7B2%7D?or=input"
   ]
  },
  {
   "cell_type": "code",
   "execution_count": null,
   "id": "42fff7e7-8ce6-4df0-8f77-85498d9dd36e",
   "metadata": {},
   "outputs": [],
   "source": [
    "def f(a, b): \n",
    "    #### Tutaj wpisz swoja funkcje w nomralnej formie\n",
    "    return 1/4 * (25-a**2 * b**2)**2 + 1/2 * a**2 + 1/2 * b**2  \n",
    "\n",
    "def grad_f(a,b): \n",
    "    #### Wpisz pochodna z respektem do a\n",
    "    grad_a = (25-a**2*b**2)*-b**2*a+a\n",
    "    #### Wpisz pochodna z respektem do b\n",
    "    grad_b = (25-a**2*b**2)*-b*a**2+b\n",
    "    return grad_a, grad_b\n",
    "\n",
    "def gradient_descent(f, grad_f, eta, x_0, max_iter):\n",
    "    ### Podaaj funkcje f bez wartosci , funkcje grad_f bez wartosci ,eta jako wielkosc twojego stepu,\n",
    "    ### x_0 to punkt startowy w formie listy, i ilosc iteracji\n",
    "    x = x_0\n",
    "    for i in range(max_iter):\n",
    "        x_a, x_b = grad_f(*x)\n",
    "        x_a = x[0] - eta * x_a\n",
    "        x_b = x[1] - eta * x_b\n",
    "        x = x_a, x_b\n",
    "    return x\n"
   ]
  },
  {
   "cell_type": "code",
   "execution_count": 56,
   "id": "734668bd-05b5-40c7-b590-6c13942b10a7",
   "metadata": {},
   "outputs": [
    {
     "data": {
      "text/plain": [
       "24.330856546423522"
      ]
     },
     "execution_count": 56,
     "metadata": {},
     "output_type": "execute_result"
    }
   ],
   "source": [
    "### Podaaj funkcje f bez wartosci , funkcje grad_f bez wartosci ,eta jako wielkosc twojego stepu,\n",
    "### x_0 to punkt startowy w formie listy, i ilosc iteracji\n",
    "g=gradient_descent(f,grad_f,0.01,[1,1],3)\n",
    "\n",
    "#funkcja od grad\n",
    "f(*g)"
   ]
  },
  {
   "cell_type": "markdown",
   "id": "31b81035-a686-40f3-83e2-ac6c7f9c4942",
   "metadata": {},
   "source": [
    "# COORDINATE DESCENT"
   ]
  },
  {
   "cell_type": "code",
   "execution_count": 57,
   "id": "c1ea745f-8bb5-4947-8f36-d708b9fccada",
   "metadata": {
    "tags": []
   },
   "outputs": [],
   "source": [
    "# dajesz x startowe y startowe i ilosc iteracji\n",
    "def cor(x,y,max_iter): \n",
    "    for i in range(max_iter):\n",
    "        # NAPISZ POCHODNA OD X, PRZYROWNAJ DO 0 , WYCIAGNIJ X (X=...)\n",
    "        x=20*y/(2*y**2+0.2) \n",
    "        \n",
    "        # NAPISZ POCHODNA OD Y, PRZYROWNAJ DO 0, WYCIAGNIJ Y (Y=...)\n",
    "        y=20*x/(2*x**2+0.2) \n",
    "    return x,y\n",
    "def f_cor(x,y):\n",
    "    #### WPISZ SWOJA FUNKCJE\n",
    "    return x*y"
   ]
  },
  {
   "cell_type": "markdown",
   "id": "7f922aab-f5ca-4dcf-a42c-0d459cc5749c",
   "metadata": {},
   "source": [
    "a=cor(1,1,3)\n",
    "f_cor(*a)"
   ]
  },
  {
   "cell_type": "markdown",
   "id": "1bc78d86-632e-4c38-a4b4-2707998a6c4d",
   "metadata": {},
   "source": [
    "# ENTROPY\n",
    "https://planetcalc.com/2476/\n",
    "\n",
    "1. Dla klasy\n",
    "Patrzymy tylko na outcome i podajemy do naszej funkcji prawdopodobienstwo outcome'u\n",
    "\n",
    "2. Dla splitu (np. weather=sunny)\n",
    "To samo ale tylko bierzemy outcome'y dla weather=sunny"
   ]
  },
  {
   "cell_type": "code",
   "execution_count": 58,
   "id": "d10e91f2-dcfa-4408-b1c6-c8f0762142b2",
   "metadata": {},
   "outputs": [],
   "source": [
    "#### Policz prawdopodpienstwo na wartosci y , tutaj zakladamy ze sa 2 mozliwosci \n",
    "def Entropy(P_0,P_1):\n",
    "    P_0 = -1*P_0 *math.log2(P_0)\n",
    "    P_1  = -1*P_1 *math.log2(P_1)\n",
    "    return P_0 +P_1\n"
   ]
  },
  {
   "cell_type": "markdown",
   "id": "195bee7e-929a-4253-87fd-83918be3f32d",
   "metadata": {},
   "source": [
    "# GINI\n",
    "**Information Gain** for the split of a node $m$, whose entropy measure of its parent $m-1$ is $Q(R_{m-1})$ is defined as:  $$IG(R_{m-1},R_{m}) = Q(R_{m-1}) - Q(R_{m}).$$ \n",
    "\n",
    "<br>\n",
    "\n",
    "|Example| Outlook | Weekend |  Humidity | Wind | Temperature | Played Football?  |  \n",
    "|:----:|:------:|:-----:|:-----:|:-----:|:-----:|:-----:|\n",
    "|1| Sunny | Y | Normal | Weak | 24 | Y | \n",
    "|2| Sunny | N | Normal | Strong | 18 | Y | \n",
    "|3| Sunny | Y | Normal | Strong | 30 | Y | \n",
    "|4| Overcast | N | High | Strong| 20 | N | \n",
    "|5| Rainy | N | Normal | Weak | 21 | N | \n",
    "|6| Sunny | Y| Normal | Strong | 16 | N | \n",
    "\n",
    "<br>\n",
    "\n",
    "\n",
    "$$Q(R; Outlook,\\ Sunny) = \\frac{2}{3}\\left[\\frac{3}{4}\\cdot\\frac{1}{4}+\\frac{1}{4}\\cdot\\frac{3}{4}\\right] +\n",
    "                               \\frac{1}{3} \\cdot 0 = 0.125.$$"
   ]
  },
  {
   "cell_type": "markdown",
   "id": "c4ac7c2c-0ece-4df5-80db-73efa3361fd6",
   "metadata": {},
   "source": [
    "# FIT POLYNOMIAL DEGREE $k = 2$\n",
    "$k=2\\implies x^2$"
   ]
  },
  {
   "cell_type": "code",
   "execution_count": 59,
   "id": "d8fc9e9a-da9c-437b-b6e5-a0c62f54a7f4",
   "metadata": {},
   "outputs": [
    {
     "data": {
      "text/plain": [
       "array([ 0.66666667, -0.53333333,  0.2       ])"
      ]
     },
     "execution_count": 59,
     "metadata": {},
     "output_type": "execute_result"
    }
   ],
   "source": [
    "\n",
    "\n",
    "X=[-1,0,2,3]\n",
    "Y=[2,-1,3,4]\n",
    "p_fitted= np.polyfit(X,Y,deg=2)\n",
    "p_fitted\n",
    "### osattni to intercept"
   ]
  },
  {
   "cell_type": "markdown",
   "id": "815b7d8a-0b45-4fe9-8da0-be9fb9039766",
   "metadata": {},
   "source": [
    "# 2-RANK FACTORIZATION"
   ]
  },
  {
   "cell_type": "code",
   "execution_count": 60,
   "id": "1ee31abd-48c7-4b7b-b026-9b9eea1ff0fa",
   "metadata": {},
   "outputs": [],
   "source": [
    "\n",
    "D= np.array([[4,5,1,2],\n",
    "             [5,4,5,3],\n",
    "             [5,3,1,2],\n",
    "             [1,2,5,1],\n",
    "             [3,1,5,1]])\n",
    "U, s, Vt = np.linalg.svd(D,full_matrices=True)\n",
    "\n",
    "r = 2 # rank\n",
    "X = Vt.T[:,0:r]*np.sqrt(s[0:r])\n",
    "Y = U[:,0:r]*np.sqrt(s[0:r])"
   ]
  },
  {
   "cell_type": "code",
   "execution_count": 61,
   "id": "6db38581-f990-4981-ae7c-e74329086c69",
   "metadata": {},
   "outputs": [
    {
     "data": {
      "text/plain": [
       "array([[4.7, 4.1, 0.9, 2.2],\n",
       "       [5.1, 4.2, 5. , 2.6],\n",
       "       [4.3, 3.8, 1.1, 2. ],\n",
       "       [1.7, 1.2, 4.9, 1. ],\n",
       "       [2.3, 1.7, 5. , 1.3]])"
      ]
     },
     "execution_count": 61,
     "metadata": {},
     "output_type": "execute_result"
    }
   ],
   "source": [
    "# 1 to do ilu decymali zaokraglic\n",
    "np.round(Y@X.T,1)"
   ]
  },
  {
   "cell_type": "markdown",
   "id": "87590ff8-c356-4e57-bcbb-dd52be3e77b9",
   "metadata": {},
   "source": [
    "# PCA"
   ]
  },
  {
   "cell_type": "code",
   "execution_count": 62,
   "id": "75f997c9-2db2-418b-aafa-7780ab2655d7",
   "metadata": {},
   "outputs": [],
   "source": [
    "D = np.array([[1, 2, 1],\n",
    "        [0, 1, 2],\n",
    "        [3, 1, 2],\n",
    "        [3, 3, 1]])"
   ]
  },
  {
   "cell_type": "code",
   "execution_count": null,
   "id": "a455a9b5-9d4b-4b8b-b681-8706d293ed50",
   "metadata": {},
   "outputs": [],
   "source": []
  },
  {
   "cell_type": "code",
   "execution_count": 92,
   "id": "d93a7d73-5b83-47b7-a158-19b901a758fd",
   "metadata": {},
   "outputs": [
    {
     "data": {
      "text/plain": [
       "array([-1.51545959, -0.06749765, -2.80255338, -3.71884709])"
      ]
     },
     "execution_count": 92,
     "metadata": {},
     "output_type": "execute_result"
    }
   ],
   "source": [
    "pca = PCA(n_components=2)\n",
    "pca.fit(D)\n",
    "pcs = pca.components_.T\n",
    "pc1=pcs[:,0]\n",
    "x=D@pc1\n",
    "x\n"
   ]
  },
  {
   "cell_type": "code",
   "execution_count": 93,
   "id": "53789860-4528-40ae-abf3-27465f1a5707",
   "metadata": {},
   "outputs": [
    {
     "data": {
      "text/plain": [
       "1.8912873351042705"
      ]
     },
     "execution_count": 93,
     "metadata": {},
     "output_type": "execute_result"
    }
   ],
   "source": [
    "np.var(x)"
   ]
  },
  {
   "cell_type": "markdown",
   "id": "ee8b982a-0e6e-4abd-b5bc-80603774abdc",
   "metadata": {},
   "source": [
    "# SAMPLE VARIANCE OF A FEATURE"
   ]
  },
  {
   "cell_type": "code",
   "execution_count": 94,
   "id": "a5fbeea0-7ab3-498e-abd9-141bd213d7fa",
   "metadata": {},
   "outputs": [
    {
     "name": "stdout",
     "output_type": "stream",
     "text": [
      "[1.         2.         3.33333333]\n"
     ]
    },
    {
     "data": {
      "text/plain": [
       "0.91358024691358"
      ]
     },
     "execution_count": 94,
     "metadata": {},
     "output_type": "execute_result"
    }
   ],
   "source": [
    "import math\n",
    "\n",
    "α = np.array([1/3,2/3, 2/3])\n",
    "α=α/np.linalg.norm(α)\n",
    "\n",
    "D2 = [[1, 0, 1], [0, 1, 2], [4, 1, 2]]\n",
    "D_a = D2@α\n",
    "print(D_a)\n",
    "np.var(D_a)"
   ]
  },
  {
   "cell_type": "code",
   "execution_count": null,
   "id": "83df5574-30ae-44c6-b820-df00912c1f09",
   "metadata": {},
   "outputs": [],
   "source": []
  }
 ],
 "metadata": {
  "kernelspec": {
   "display_name": "Python 3 (ipykernel)",
   "language": "python",
   "name": "python3"
  },
  "language_info": {
   "codemirror_mode": {
    "name": "ipython",
    "version": 3
   },
   "file_extension": ".py",
   "mimetype": "text/x-python",
   "name": "python",
   "nbconvert_exporter": "python",
   "pygments_lexer": "ipython3",
   "version": "3.8.8"
  }
 },
 "nbformat": 4,
 "nbformat_minor": 5
}
